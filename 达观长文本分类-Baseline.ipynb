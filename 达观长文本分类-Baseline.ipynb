{
 "cells": [
  {
   "cell_type": "markdown",
   "metadata": {},
   "source": [
    "## **竞赛地址：** [“达观杯”文本智能处理挑战赛](http://www.dcjingsai.com/common/cmpt/%E2%80%9C%E8%BE%BE%E8%A7%82%E6%9D%AF%E2%80%9D%E6%96%87%E6%9C%AC%E6%99%BA%E8%83%BD%E5%A4%84%E7%90%86%E6%8C%91%E6%88%98%E8%B5%9B_%E7%AB%9E%E8%B5%9B%E4%BF%A1%E6%81%AF.html)\n",
    "\n",
    "## [参考文章](https://zhuanlan.zhihu.com/p/30455047)\n",
    "\n",
    "求个关注，star"
   ]
  },
  {
   "cell_type": "code",
   "execution_count": 1,
   "metadata": {
    "collapsed": true
   },
   "outputs": [],
   "source": [
    "import pandas as pd\n",
    "import numpy as np\n",
    "from sklearn.metrics import classification_report, confusion_matrix\n",
    "\n",
    "import os\n",
    "import pickle\n",
    "\n",
    "from sklearn.linear_model import LogisticRegression\n",
    "from sklearn.feature_extraction.text import CountVectorizer, TfidfVectorizer\n",
    "from sklearn.naive_bayes import MultinomialNB\n",
    "from sklearn import svm\n",
    "from sklearn.metrics import f1_score\n",
    "from sklearn.model_selection import StratifiedKFold,KFold"
   ]
  },
  {
   "cell_type": "code",
   "execution_count": 2,
   "metadata": {
    "collapsed": true
   },
   "outputs": [],
   "source": [
    "from sklearn.feature_selection import SelectKBest, chi2"
   ]
  },
  {
   "cell_type": "code",
   "execution_count": 3,
   "metadata": {
    "collapsed": true
   },
   "outputs": [],
   "source": [
    "import warnings\n",
    "warnings.filterwarnings(\"ignore\")"
   ]
  },
  {
   "cell_type": "markdown",
   "metadata": {},
   "source": [
    "## 读取训练集和测试集数据\n",
    "\n",
    "由于数据集较大，我们采用 pandas 分块读取。"
   ]
  },
  {
   "cell_type": "code",
   "execution_count": 12,
   "metadata": {},
   "outputs": [
    {
     "name": "stdout",
     "output_type": "stream",
     "text": [
      "Iteration is stopped\n"
     ]
    }
   ],
   "source": [
    "reader = pd.read_csv('./new_data/train_set.csv',iterator=True)\n",
    "\n",
    "chunks = []\n",
    "loop = True\n",
    "while loop:\n",
    "    try:\n",
    "        chunk = reader.get_chunk(20000)[['id','word_seg','class']]\n",
    "        chunks.append(chunk)\n",
    "    except StopIteration:\n",
    "        loop = False\n",
    "        print(\"Iteration is stopped\")\n",
    "        \n",
    "train = pd.concat(chunks,axis=0)\n",
    "# train = train.drop_duplicates(subset='word_seg')"
   ]
  },
  {
   "cell_type": "code",
   "execution_count": 13,
   "metadata": {},
   "outputs": [
    {
     "name": "stdout",
     "output_type": "stream",
     "text": [
      "Iteration is stopped\n"
     ]
    }
   ],
   "source": [
    "reader2 = pd.read_csv('./new_data/test_set.csv',iterator=True)\n",
    "\n",
    "chunks = []\n",
    "loop = True\n",
    "while loop:\n",
    "    try:\n",
    "        chunk = reader2.get_chunk(20000)[['id','word_seg']]\n",
    "        chunks.append(chunk)\n",
    "    except StopIteration:\n",
    "        loop = False\n",
    "        print(\"Iteration is stopped\")\n",
    "        \n",
    "test = pd.concat(chunks,axis=0)"
   ]
  },
  {
   "cell_type": "markdown",
   "metadata": {},
   "source": [
    "### 回收内存"
   ]
  },
  {
   "cell_type": "code",
   "execution_count": 14,
   "metadata": {},
   "outputs": [
    {
     "data": {
      "text/plain": [
       "306"
      ]
     },
     "execution_count": 14,
     "metadata": {},
     "output_type": "execute_result"
    }
   ],
   "source": [
    "import gc\n",
    "del chunks\n",
    "gc.collect()"
   ]
  },
  {
   "cell_type": "markdown",
   "metadata": {},
   "source": [
    "### 特征选择1、使用卡方检验挑选重要 一元词组"
   ]
  },
  {
   "cell_type": "code",
   "execution_count": 15,
   "metadata": {},
   "outputs": [
    {
     "name": "stderr",
     "output_type": "stream",
     "text": [
      "/Users/wangle/anaconda3/lib/python3.6/site-packages/sklearn/feature_extraction/text.py:1089: FutureWarning: Conversion of the second argument of issubdtype from `float` to `np.floating` is deprecated. In future, it will be treated as `np.float64 == np.dtype(float).type`.\n",
      "  if hasattr(X, 'dtype') and np.issubdtype(X.dtype, np.float):\n"
     ]
    }
   ],
   "source": [
    "train = train.sample(frac=1)\n",
    "train['class'] = train['class'] -1\n",
    "\n",
    "label = train['class'].values\n",
    "test_id = test['id'].values\n",
    "\n",
    "vec = TfidfVectorizer(ngram_range=(1,1),min_df=5, max_df=0.8,use_idf=1,smooth_idf=1, sublinear_tf=1)\n",
    "\n",
    "trainX = vec.fit_transform(train['word_seg'])\n",
    "\n",
    "feature_names = vec.get_feature_names()"
   ]
  },
  {
   "cell_type": "code",
   "execution_count": 17,
   "metadata": {},
   "outputs": [
    {
     "data": {
      "text/plain": [
       "(207512, (102277, 207512))"
      ]
     },
     "execution_count": 17,
     "metadata": {},
     "output_type": "execute_result"
    }
   ],
   "source": [
    "len(feature_names), trainX.shape"
   ]
  },
  {
   "cell_type": "code",
   "execution_count": 18,
   "metadata": {
    "collapsed": true
   },
   "outputs": [],
   "source": [
    "ch2 = SelectKBest(chi2, k=150000)\n",
    "trainX = ch2.fit_transform(trainX,label)\n",
    "\n",
    "feature_names = [feature_names[i] for i in ch2.get_support(indices=True)]"
   ]
  },
  {
   "cell_type": "code",
   "execution_count": 19,
   "metadata": {},
   "outputs": [
    {
     "data": {
      "text/plain": [
       "150000"
      ]
     },
     "execution_count": 19,
     "metadata": {},
     "output_type": "execute_result"
    }
   ],
   "source": [
    "len(feature_names)"
   ]
  },
  {
   "cell_type": "markdown",
   "metadata": {},
   "source": [
    "### 特征选择2、计算训练集中每个词的逆文档评率 idf，过滤掉一些 出现次数少和 idf 值较小的词，用于做特征选择。"
   ]
  },
  {
   "cell_type": "code",
   "execution_count": 20,
   "metadata": {
    "collapsed": true
   },
   "outputs": [],
   "source": [
    "corpus = []\n",
    "for doc in train['word_seg'].tolist() + test['word_seg'].tolist():\n",
    "    doc = doc.split()\n",
    "    corpus.append(doc)"
   ]
  },
  {
   "cell_type": "code",
   "execution_count": 22,
   "metadata": {
    "collapsed": true
   },
   "outputs": [],
   "source": [
    "def make_idf_vocab(train_data):\n",
    "    if os.path.exists('./new_data/vocab.pkl'):\n",
    "        vocab = pickle.load(open('./new_data/vocab.pkl','rb'))\n",
    "    else:\n",
    "        word_to_doc = {}\n",
    "        idf = {}\n",
    "        total_doc_num = float(len(train_data))\n",
    "\n",
    "        for doc in train_data:\n",
    "            for word in set(doc):\n",
    "                if word not in word_to_doc.keys():\n",
    "                    word_to_doc[word] = 1\n",
    "                else:\n",
    "                    word_to_doc[word] += 1\n",
    "\n",
    "        for word in word_to_doc.keys():\n",
    "            if word_to_doc[word] > 10:\n",
    "                idf[word] = np.log(total_doc_num/(word_to_doc[word]+1))\n",
    "\n",
    "        sort_idf = sorted(idf.items(),key=lambda x:x[1])\n",
    "        vocab = [x[0] for x in sort_idf]\n",
    "        pickle.dump(vocab,open('./new_data/vocab.pkl','wb'))\n",
    "    return vocab"
   ]
  },
  {
   "cell_type": "code",
   "execution_count": 23,
   "metadata": {
    "collapsed": true
   },
   "outputs": [],
   "source": [
    "vocab = make_idf_vocab(corpus)"
   ]
  },
  {
   "cell_type": "code",
   "execution_count": 24,
   "metadata": {},
   "outputs": [
    {
     "data": {
      "text/plain": [
       "187577"
      ]
     },
     "execution_count": 24,
     "metadata": {},
     "output_type": "execute_result"
    }
   ],
   "source": [
    "len(vocab)"
   ]
  },
  {
   "cell_type": "code",
   "execution_count": 9,
   "metadata": {},
   "outputs": [
    {
     "data": {
      "text/plain": [
       "0"
      ]
     },
     "execution_count": 9,
     "metadata": {},
     "output_type": "execute_result"
    }
   ],
   "source": [
    "del corpus\n",
    "gc.collect()"
   ]
  },
  {
   "cell_type": "markdown",
   "metadata": {},
   "source": [
    "### 提取卡方检验选择的特征和 idf 选择的特征的共同特征"
   ]
  },
  {
   "cell_type": "code",
   "execution_count": 25,
   "metadata": {},
   "outputs": [
    {
     "data": {
      "text/plain": [
       "108662"
      ]
     },
     "execution_count": 25,
     "metadata": {},
     "output_type": "execute_result"
    }
   ],
   "source": [
    "vocab = vocab[:130000]\n",
    "\n",
    "vocab = set(vocab) & set(feature_names)\n",
    "\n",
    "len(vocab)"
   ]
  },
  {
   "cell_type": "code",
   "execution_count": 26,
   "metadata": {
    "collapsed": true
   },
   "outputs": [],
   "source": [
    "vocab_dict = {w:1 for w in vocab}\n",
    "def filter_word(x):\n",
    "    x = x.split()\n",
    "    x = [w for w in x if w in vocab_dict.keys()]\n",
    "    return ' '.join(x)\n",
    "\n",
    "train['word_seg'] = train['word_seg'].map(lambda x : filter_word(x))\n",
    "test['word_seg'] = test['word_seg'].map(lambda x : filter_word(x))"
   ]
  },
  {
   "cell_type": "markdown",
   "metadata": {},
   "source": [
    "### ----------------------------------"
   ]
  },
  {
   "cell_type": "markdown",
   "metadata": {},
   "source": [
    "## 特征构造\n",
    "\n",
    "### 提取 TF-IDF 特征"
   ]
  },
  {
   "cell_type": "code",
   "execution_count": 27,
   "metadata": {
    "collapsed": true
   },
   "outputs": [],
   "source": [
    "vec = TfidfVectorizer(ngram_range=(1,2),min_df=5, max_df=0.8,use_idf=1,smooth_idf=1, sublinear_tf=1)\n",
    "\n",
    "trainX = vec.fit_transform(train['word_seg'])\n",
    "testX = vec.transform(test['word_seg'])"
   ]
  },
  {
   "cell_type": "code",
   "execution_count": 28,
   "metadata": {},
   "outputs": [
    {
     "data": {
      "text/plain": [
       "((102277, 1509583), (102277, 1509583))"
      ]
     },
     "execution_count": 28,
     "metadata": {},
     "output_type": "execute_result"
    }
   ],
   "source": [
    "testX.shape, trainX.shape"
   ]
  },
  {
   "cell_type": "markdown",
   "metadata": {},
   "source": [
    "### 提取词频特征"
   ]
  },
  {
   "cell_type": "code",
   "execution_count": 29,
   "metadata": {
    "collapsed": true
   },
   "outputs": [],
   "source": [
    "from sklearn.feature_extraction.text import CountVectorizer\n",
    "from scipy.sparse import csr_matrix, hstack\n",
    "\n",
    "cv = CountVectorizer(max_features=500000,max_df=0.7, min_df=3, lowercase=False ,ngram_range=(2,3))\n",
    "\n",
    "trainX_cv = cv.fit_transform(train['word_seg'])\n",
    "testX_cv = cv.transform(test['word_seg'])"
   ]
  },
  {
   "cell_type": "code",
   "execution_count": 30,
   "metadata": {
    "collapsed": true
   },
   "outputs": [],
   "source": [
    "trainX = hstack([trainX_cv,trainX])\n",
    "testX = hstack([testX_cv,testX])"
   ]
  },
  {
   "cell_type": "code",
   "execution_count": 5,
   "metadata": {
    "collapsed": true
   },
   "outputs": [],
   "source": [
    "from sklearn.preprocessing import StandardScaler\n",
    "\n",
    "scaler = StandardScaler(with_mean=False)\n",
    "trainX = scaler.fit_transform(trainX)\n",
    "testX = scaler.transform(testX)"
   ]
  },
  {
   "cell_type": "code",
   "execution_count": 6,
   "metadata": {},
   "outputs": [
    {
     "data": {
      "text/plain": [
       "((102277, 1200000), (102277, 1200000))"
      ]
     },
     "execution_count": 6,
     "metadata": {},
     "output_type": "execute_result"
    }
   ],
   "source": [
    "trainX.shape, testX.shape"
   ]
  },
  {
   "cell_type": "markdown",
   "metadata": {},
   "source": [
    "### 采用卡方检验选择特征，降维"
   ]
  },
  {
   "cell_type": "code",
   "execution_count": 31,
   "metadata": {
    "collapsed": true
   },
   "outputs": [],
   "source": [
    "ch2 = SelectKBest(chi2, k=1200000)\n",
    "trainX = ch2.fit_transform(trainX,label)\n",
    "testX = ch2.transform(testX)"
   ]
  },
  {
   "cell_type": "markdown",
   "metadata": {},
   "source": [
    "## SVC 模型"
   ]
  },
  {
   "cell_type": "markdown",
   "metadata": {},
   "source": [
    "### 使用 SVC 模型对训练集进行 10 折交叉验证，最后将10组结果进行投票确定最终预测结果"
   ]
  },
  {
   "cell_type": "code",
   "execution_count": null,
   "metadata": {
    "collapsed": true
   },
   "outputs": [],
   "source": [
    "test_svc = np.zeros((testX.shape[0],5))\n",
    "\n",
    "kf = StratifiedKFold(n_splits=10,random_state=233,shuffle=True)\n",
    "for i,(train_index, val_index) in enumerate(kf.split(trainX,label)):\n",
    "    if i > 4:\n",
    "        break\n",
    "    X_train = trainX[train_index]\n",
    "    y_train = label[train_index]\n",
    "    X_val = trainX[val_index]\n",
    "    y_val = label[val_index]\n",
    "    \n",
    "    svc_clf = svm.LinearSVC(class_weight='balanced')\n",
    "    svc_clf.fit(X_train, y_train)\n",
    "    pred_val = svc_clf.predict(X_val)\n",
    "    print(f1_score(y_val, pred_val, average='macro'))\n",
    "    \n",
    "    test_svc[:,i] = svc_clf.predict(testX)\n",
    "    "
   ]
  },
  {
   "cell_type": "code",
   "execution_count": 25,
   "metadata": {
    "collapsed": true
   },
   "outputs": [],
   "source": [
    "from collections import Counter\n",
    "\n",
    "res_bag = []\n",
    "for r in test_svc:\n",
    "    res_bag.append(int( Counter(r).most_common(1)[0][0]))"
   ]
  },
  {
   "cell_type": "markdown",
   "metadata": {},
   "source": [
    "### 提交结果"
   ]
  },
  {
   "cell_type": "code",
   "execution_count": 26,
   "metadata": {
    "collapsed": true
   },
   "outputs": [],
   "source": [
    "res = pd.DataFrame({\"class\":res_bag,'id':test_id})\n",
    "res['class'] = (res['class']+1).astype(int)\n",
    "res[[\"id\",\"class\"]].to_csv('svc5cv_baseline.csv',index=None)"
   ]
  },
  {
   "cell_type": "markdown",
   "metadata": {},
   "source": [
    "## LR 模型"
   ]
  },
  {
   "cell_type": "markdown",
   "metadata": {},
   "source": [
    "### 使用逻辑斯提回归模型进行10折交叉验证，并且对10次预测结果的概率值进行平均，取最大平均概率为预测结果"
   ]
  },
  {
   "cell_type": "code",
   "execution_count": 10,
   "metadata": {},
   "outputs": [
    {
     "name": "stdout",
     "output_type": "stream",
     "text": [
      "0.7724444155150814\n",
      "0.7756671627886585\n",
      "0.7719812664813792\n",
      "0.7790966001032718\n",
      "0.7713963296159765\n",
      "0.7728899380307235\n",
      "0.7717692943858951\n",
      "0.7734096482682434\n",
      "0.7744500831825549\n",
      "0.7778699282160826\n"
     ]
    }
   ],
   "source": [
    "test_lr = np.zeros((testX.shape[0],19))\n",
    "seed = 0\n",
    "kf = StratifiedKFold(n_splits=10,random_state=233,shuffle=True)\n",
    "for train_index, val_index in kf.split(trainX,label):\n",
    "    X_train = trainX[train_index]\n",
    "    y_train = label[train_index]\n",
    "    X_val = trainX[val_index]\n",
    "    y_val = label[val_index]\n",
    "    \n",
    "    seed += 10\n",
    "    clf = LogisticRegression(C=4, dual=True,n_jobs=4,multi_class='ovr',random_state=seed)\n",
    "    clf.fit(X_train, y_train)\n",
    "    predi=clf.predict(X_val)\n",
    "    print(f1_score(y_val, predi, average='macro'))\n",
    "    \n",
    "    test_lr += clf.predict_proba(testX)"
   ]
  },
  {
   "cell_type": "code",
   "execution_count": 11,
   "metadata": {},
   "outputs": [
    {
     "name": "stdout",
     "output_type": "stream",
     "text": [
      "             precision    recall  f1-score   support\n",
      "\n",
      "          0       0.62      0.60      0.61       537\n",
      "          1       0.83      0.73      0.78       290\n",
      "          2       0.85      0.90      0.87       831\n",
      "          3       0.88      0.80      0.84       382\n",
      "          4       0.85      0.76      0.80       236\n",
      "          5       0.95      0.90      0.92       688\n",
      "          6       0.80      0.66      0.72       303\n",
      "          7       0.74      0.78      0.76       697\n",
      "          8       0.91      0.95      0.93       767\n",
      "          9       0.73      0.73      0.73       496\n",
      "         10       0.72      0.68      0.70       357\n",
      "         11       0.70      0.66      0.68       532\n",
      "         12       0.72      0.83      0.77       790\n",
      "         13       0.77      0.83      0.80       674\n",
      "         14       0.89      0.91      0.90       751\n",
      "         15       0.78      0.62      0.69       322\n",
      "         16       0.77      0.76      0.76       309\n",
      "         17       0.86      0.91      0.88       706\n",
      "         18       0.63      0.63      0.63       552\n",
      "\n",
      "avg / total       0.79      0.79      0.79     10220\n",
      "\n"
     ]
    }
   ],
   "source": [
    "print(classification_report(y_val, predi,target_names=['%s' % i for i in range(20)]))"
   ]
  },
  {
   "cell_type": "markdown",
   "metadata": {},
   "source": [
    "### 提交结果"
   ]
  },
  {
   "cell_type": "code",
   "execution_count": 13,
   "metadata": {},
   "outputs": [],
   "source": [
    "preds = np.argmax(test_lr,axis=1)\n",
    "preds = preds + 1\n",
    "\n",
    "res = pd.DataFrame({\"class\":preds,'id':test_id})\n",
    "res['class'] = res['class'].astype(int)\n",
    "res[[\"id\",\"class\"]].to_csv('lr10cv_baseline2.csv',index=None)"
   ]
  },
  {
   "cell_type": "markdown",
   "metadata": {},
   "source": [
    "### 保存训练集文件"
   ]
  },
  {
   "cell_type": "code",
   "execution_count": 5,
   "metadata": {
    "collapsed": true
   },
   "outputs": [],
   "source": [
    "from scipy import sparse\n",
    "\n",
    "pickle.dump(test_id,open('./new_data/test_id.pkl','wb'))\n",
    "pickle.dump(label,open('./new_data/label.pkl','wb'))\n",
    "\n",
    "sparse.save_npz(\"./new_data/trainX.npz\", trainX)\n",
    "sparse.save_npz(\"./new_data/testX.npz\", testX)"
   ]
  },
  {
   "cell_type": "markdown",
   "metadata": {},
   "source": [
    "## LGBM 模型\n",
    "\n",
    "效果好像不好，训练速度慢，准确率低，训练完之后就 die 了，没提交结果。"
   ]
  },
  {
   "cell_type": "code",
   "execution_count": 6,
   "metadata": {
    "collapsed": true
   },
   "outputs": [],
   "source": [
    "import lightgbm as lgb\n",
    "from sklearn.model_selection import train_test_split\n",
    "from sklearn.feature_selection import SelectFromModel\n",
    "import pickle"
   ]
  },
  {
   "cell_type": "code",
   "execution_count": 4,
   "metadata": {
    "collapsed": true
   },
   "outputs": [],
   "source": [
    "from scipy import sparse\n",
    "\n",
    "test_id = pickle.load(open('./new_data/test_id.pkl','rb'))\n",
    "label = pickle.load(open('./new_data/label.pkl','rb'))\n",
    "\n",
    "trainX = sparse.load_npz(\"./new_data/trainX.npz\")\n",
    "testX = sparse.load_npz(\"./new_data/testX.npz\")"
   ]
  },
  {
   "cell_type": "markdown",
   "metadata": {},
   "source": [
    "### 使用模型选择特征"
   ]
  },
  {
   "cell_type": "code",
   "execution_count": 7,
   "metadata": {},
   "outputs": [
    {
     "name": "stdout",
     "output_type": "stream",
     "text": [
      "(102277, 62732)\n"
     ]
    }
   ],
   "source": [
    "model = LogisticRegression(solver='liblinear',penalty='l1')\n",
    "sfm = SelectFromModel(model, threshold='mean')\n",
    "trainX = sfm.fit_transform(trainX, label)\n",
    "testX = sfm.transform(testX)\n",
    "\n",
    "print(trainX.shape)"
   ]
  },
  {
   "cell_type": "code",
   "execution_count": null,
   "metadata": {
    "scrolled": true
   },
   "outputs": [
    {
     "name": "stdout",
     "output_type": "stream",
     "text": [
      "[1]\tvalid_0's multi_logloss: 2.86157\tvalid_0's multi_error: 0.37016\n",
      "Training until validation scores don't improve for 50 rounds.\n",
      "[2]\tvalid_0's multi_logloss: 2.78781\tvalid_0's multi_error: 0.334181\n",
      "[3]\tvalid_0's multi_logloss: 2.72252\tvalid_0's multi_error: 0.322155\n",
      "[4]\tvalid_0's multi_logloss: 2.66448\tvalid_0's multi_error: 0.317951\n",
      "[5]\tvalid_0's multi_logloss: 2.60995\tvalid_0's multi_error: 0.312573\n",
      "[6]\tvalid_0's multi_logloss: 2.5601\tvalid_0's multi_error: 0.312378\n",
      "[7]\tvalid_0's multi_logloss: 2.51462\tvalid_0's multi_error: 0.307098\n",
      "[8]\tvalid_0's multi_logloss: 2.47198\tvalid_0's multi_error: 0.307196\n",
      "[9]\tvalid_0's multi_logloss: 2.43104\tvalid_0's multi_error: 0.306707\n",
      "[10]\tvalid_0's multi_logloss: 2.3925\tvalid_0's multi_error: 0.304556\n",
      "[11]\tvalid_0's multi_logloss: 2.35639\tvalid_0's multi_error: 0.304654\n",
      "[12]\tvalid_0's multi_logloss: 2.32183\tvalid_0's multi_error: 0.301819\n",
      "[13]\tvalid_0's multi_logloss: 2.28942\tvalid_0's multi_error: 0.301036\n",
      "[14]\tvalid_0's multi_logloss: 2.25881\tvalid_0's multi_error: 0.301036\n",
      "[15]\tvalid_0's multi_logloss: 2.22923\tvalid_0's multi_error: 0.300352\n",
      "[16]\tvalid_0's multi_logloss: 2.20089\tvalid_0's multi_error: 0.298885\n",
      "[17]\tvalid_0's multi_logloss: 2.17345\tvalid_0's multi_error: 0.298299\n",
      "[18]\tvalid_0's multi_logloss: 2.14679\tvalid_0's multi_error: 0.297908\n",
      "[19]\tvalid_0's multi_logloss: 2.12201\tvalid_0's multi_error: 0.297419\n",
      "[20]\tvalid_0's multi_logloss: 2.09812\tvalid_0's multi_error: 0.298494\n",
      "[21]\tvalid_0's multi_logloss: 2.07496\tvalid_0's multi_error: 0.299081\n",
      "[22]\tvalid_0's multi_logloss: 2.05232\tvalid_0's multi_error: 0.298201\n",
      "[23]\tvalid_0's multi_logloss: 2.03028\tvalid_0's multi_error: 0.298494\n",
      "[24]\tvalid_0's multi_logloss: 2.00916\tvalid_0's multi_error: 0.297517\n",
      "[25]\tvalid_0's multi_logloss: 1.98882\tvalid_0's multi_error: 0.296637\n",
      "[26]\tvalid_0's multi_logloss: 1.969\tvalid_0's multi_error: 0.297419\n",
      "[27]\tvalid_0's multi_logloss: 1.94988\tvalid_0's multi_error: 0.298201\n",
      "[28]\tvalid_0's multi_logloss: 1.93185\tvalid_0's multi_error: 0.298592\n",
      "[29]\tvalid_0's multi_logloss: 1.91377\tvalid_0's multi_error: 0.298494\n",
      "[30]\tvalid_0's multi_logloss: 1.89617\tvalid_0's multi_error: 0.298788\n",
      "[31]\tvalid_0's multi_logloss: 1.87879\tvalid_0's multi_error: 0.298885\n",
      "[32]\tvalid_0's multi_logloss: 1.8622\tvalid_0's multi_error: 0.298592\n",
      "[33]\tvalid_0's multi_logloss: 1.8461\tvalid_0's multi_error: 0.297419\n",
      "[34]\tvalid_0's multi_logloss: 1.83037\tvalid_0's multi_error: 0.296734\n",
      "[35]\tvalid_0's multi_logloss: 1.81518\tvalid_0's multi_error: 0.296441\n",
      "[36]\tvalid_0's multi_logloss: 1.80025\tvalid_0's multi_error: 0.296246\n",
      "[37]\tvalid_0's multi_logloss: 1.78554\tvalid_0's multi_error: 0.295366\n",
      "[38]\tvalid_0's multi_logloss: 1.77131\tvalid_0's multi_error: 0.295757\n",
      "[39]\tvalid_0's multi_logloss: 1.75737\tvalid_0's multi_error: 0.295463\n",
      "[40]\tvalid_0's multi_logloss: 1.74398\tvalid_0's multi_error: 0.294779\n",
      "[41]\tvalid_0's multi_logloss: 1.73078\tvalid_0's multi_error: 0.294192\n",
      "[42]\tvalid_0's multi_logloss: 1.71788\tvalid_0's multi_error: 0.294779\n",
      "[43]\tvalid_0's multi_logloss: 1.70516\tvalid_0's multi_error: 0.295268\n",
      "[44]\tvalid_0's multi_logloss: 1.69303\tvalid_0's multi_error: 0.294192\n",
      "[45]\tvalid_0's multi_logloss: 1.68108\tvalid_0's multi_error: 0.293997\n",
      "[46]\tvalid_0's multi_logloss: 1.66928\tvalid_0's multi_error: 0.293899\n",
      "[47]\tvalid_0's multi_logloss: 1.65792\tvalid_0's multi_error: 0.293899\n",
      "[48]\tvalid_0's multi_logloss: 1.64675\tvalid_0's multi_error: 0.293312\n",
      "[49]\tvalid_0's multi_logloss: 1.63581\tvalid_0's multi_error: 0.292726\n",
      "[50]\tvalid_0's multi_logloss: 1.6248\tvalid_0's multi_error: 0.29253\n",
      "[51]\tvalid_0's multi_logloss: 1.61429\tvalid_0's multi_error: 0.29341\n",
      "[52]\tvalid_0's multi_logloss: 1.60393\tvalid_0's multi_error: 0.292921\n",
      "[53]\tvalid_0's multi_logloss: 1.59384\tvalid_0's multi_error: 0.293117\n",
      "[54]\tvalid_0's multi_logloss: 1.58397\tvalid_0's multi_error: 0.292726\n",
      "[55]\tvalid_0's multi_logloss: 1.57431\tvalid_0's multi_error: 0.291944\n",
      "[56]\tvalid_0's multi_logloss: 1.56457\tvalid_0's multi_error: 0.29165\n",
      "[57]\tvalid_0's multi_logloss: 1.55513\tvalid_0's multi_error: 0.291455\n",
      "[58]\tvalid_0's multi_logloss: 1.54594\tvalid_0's multi_error: 0.291357\n",
      "[59]\tvalid_0's multi_logloss: 1.53691\tvalid_0's multi_error: 0.291357\n",
      "[60]\tvalid_0's multi_logloss: 1.52803\tvalid_0's multi_error: 0.291553\n",
      "[61]\tvalid_0's multi_logloss: 1.51938\tvalid_0's multi_error: 0.290966\n",
      "[62]\tvalid_0's multi_logloss: 1.51089\tvalid_0's multi_error: 0.290868\n",
      "[63]\tvalid_0's multi_logloss: 1.50276\tvalid_0's multi_error: 0.29077\n",
      "[64]\tvalid_0's multi_logloss: 1.49435\tvalid_0's multi_error: 0.29077\n",
      "[65]\tvalid_0's multi_logloss: 1.4863\tvalid_0's multi_error: 0.290868\n",
      "[66]\tvalid_0's multi_logloss: 1.47839\tvalid_0's multi_error: 0.290282\n",
      "[67]\tvalid_0's multi_logloss: 1.47052\tvalid_0's multi_error: 0.291162\n",
      "[68]\tvalid_0's multi_logloss: 1.46294\tvalid_0's multi_error: 0.290575\n",
      "[69]\tvalid_0's multi_logloss: 1.45552\tvalid_0's multi_error: 0.29077\n",
      "[70]\tvalid_0's multi_logloss: 1.44812\tvalid_0's multi_error: 0.290673\n",
      "[71]\tvalid_0's multi_logloss: 1.44096\tvalid_0's multi_error: 0.290477\n",
      "[72]\tvalid_0's multi_logloss: 1.43392\tvalid_0's multi_error: 0.290477\n",
      "[73]\tvalid_0's multi_logloss: 1.42698\tvalid_0's multi_error: 0.290184\n",
      "[74]\tvalid_0's multi_logloss: 1.42009\tvalid_0's multi_error: 0.290086\n",
      "[75]\tvalid_0's multi_logloss: 1.41333\tvalid_0's multi_error: 0.289499\n",
      "[76]\tvalid_0's multi_logloss: 1.40666\tvalid_0's multi_error: 0.290282\n",
      "[77]\tvalid_0's multi_logloss: 1.40023\tvalid_0's multi_error: 0.290477\n",
      "[78]\tvalid_0's multi_logloss: 1.39376\tvalid_0's multi_error: 0.289402\n",
      "[79]\tvalid_0's multi_logloss: 1.38745\tvalid_0's multi_error: 0.289499\n",
      "[80]\tvalid_0's multi_logloss: 1.38122\tvalid_0's multi_error: 0.289304\n",
      "[81]\tvalid_0's multi_logloss: 1.37512\tvalid_0's multi_error: 0.289108\n",
      "[82]\tvalid_0's multi_logloss: 1.36913\tvalid_0's multi_error: 0.288815\n",
      "[83]\tvalid_0's multi_logloss: 1.36329\tvalid_0's multi_error: 0.288619\n",
      "[84]\tvalid_0's multi_logloss: 1.35742\tvalid_0's multi_error: 0.288228\n",
      "[85]\tvalid_0's multi_logloss: 1.3518\tvalid_0's multi_error: 0.287935\n",
      "[86]\tvalid_0's multi_logloss: 1.34616\tvalid_0's multi_error: 0.287251\n",
      "[87]\tvalid_0's multi_logloss: 1.34051\tvalid_0's multi_error: 0.28686\n",
      "[88]\tvalid_0's multi_logloss: 1.33504\tvalid_0's multi_error: 0.286957\n",
      "[89]\tvalid_0's multi_logloss: 1.32967\tvalid_0's multi_error: 0.287055\n",
      "[90]\tvalid_0's multi_logloss: 1.32441\tvalid_0's multi_error: 0.286566\n",
      "[91]\tvalid_0's multi_logloss: 1.31916\tvalid_0's multi_error: 0.286566\n",
      "[92]\tvalid_0's multi_logloss: 1.31412\tvalid_0's multi_error: 0.286762\n",
      "[93]\tvalid_0's multi_logloss: 1.30909\tvalid_0's multi_error: 0.286664\n",
      "[94]\tvalid_0's multi_logloss: 1.30413\tvalid_0's multi_error: 0.286957\n",
      "[95]\tvalid_0's multi_logloss: 1.29924\tvalid_0's multi_error: 0.28598\n",
      "[96]\tvalid_0's multi_logloss: 1.29448\tvalid_0's multi_error: 0.285784\n",
      "[97]\tvalid_0's multi_logloss: 1.28964\tvalid_0's multi_error: 0.28598\n",
      "[98]\tvalid_0's multi_logloss: 1.28503\tvalid_0's multi_error: 0.285686\n",
      "[99]\tvalid_0's multi_logloss: 1.2804\tvalid_0's multi_error: 0.285393\n",
      "[100]\tvalid_0's multi_logloss: 1.27584\tvalid_0's multi_error: 0.285589\n",
      "[101]\tvalid_0's multi_logloss: 1.27137\tvalid_0's multi_error: 0.285393\n",
      "[102]\tvalid_0's multi_logloss: 1.26689\tvalid_0's multi_error: 0.285686\n",
      "[103]\tvalid_0's multi_logloss: 1.26253\tvalid_0's multi_error: 0.285589\n",
      "[104]\tvalid_0's multi_logloss: 1.25828\tvalid_0's multi_error: 0.285295\n",
      "[105]\tvalid_0's multi_logloss: 1.25408\tvalid_0's multi_error: 0.285295\n",
      "[106]\tvalid_0's multi_logloss: 1.24994\tvalid_0's multi_error: 0.284904\n",
      "[107]\tvalid_0's multi_logloss: 1.24576\tvalid_0's multi_error: 0.284611\n",
      "[108]\tvalid_0's multi_logloss: 1.24176\tvalid_0's multi_error: 0.284806\n",
      "[109]\tvalid_0's multi_logloss: 1.23773\tvalid_0's multi_error: 0.284318\n",
      "[110]\tvalid_0's multi_logloss: 1.2338\tvalid_0's multi_error: 0.284122\n",
      "[111]\tvalid_0's multi_logloss: 1.22989\tvalid_0's multi_error: 0.28422\n",
      "[112]\tvalid_0's multi_logloss: 1.2261\tvalid_0's multi_error: 0.284415\n",
      "[113]\tvalid_0's multi_logloss: 1.22234\tvalid_0's multi_error: 0.284122\n",
      "[114]\tvalid_0's multi_logloss: 1.21873\tvalid_0's multi_error: 0.284611\n",
      "[115]\tvalid_0's multi_logloss: 1.21499\tvalid_0's multi_error: 0.284709\n",
      "[116]\tvalid_0's multi_logloss: 1.21133\tvalid_0's multi_error: 0.284024\n",
      "[117]\tvalid_0's multi_logloss: 1.20771\tvalid_0's multi_error: 0.283829\n"
     ]
    },
    {
     "name": "stdout",
     "output_type": "stream",
     "text": [
      "[118]\tvalid_0's multi_logloss: 1.20423\tvalid_0's multi_error: 0.283633\n",
      "[119]\tvalid_0's multi_logloss: 1.2008\tvalid_0's multi_error: 0.284122\n",
      "[120]\tvalid_0's multi_logloss: 1.19728\tvalid_0's multi_error: 0.283438\n",
      "[121]\tvalid_0's multi_logloss: 1.19396\tvalid_0's multi_error: 0.28334\n",
      "[122]\tvalid_0's multi_logloss: 1.19054\tvalid_0's multi_error: 0.283535\n",
      "[123]\tvalid_0's multi_logloss: 1.18718\tvalid_0's multi_error: 0.283144\n",
      "[124]\tvalid_0's multi_logloss: 1.18398\tvalid_0's multi_error: 0.282851\n",
      "[125]\tvalid_0's multi_logloss: 1.18078\tvalid_0's multi_error: 0.282264\n",
      "[126]\tvalid_0's multi_logloss: 1.17772\tvalid_0's multi_error: 0.28246\n",
      "[127]\tvalid_0's multi_logloss: 1.17463\tvalid_0's multi_error: 0.282264\n",
      "[128]\tvalid_0's multi_logloss: 1.17149\tvalid_0's multi_error: 0.282167\n",
      "[129]\tvalid_0's multi_logloss: 1.16849\tvalid_0's multi_error: 0.282949\n",
      "[130]\tvalid_0's multi_logloss: 1.16545\tvalid_0's multi_error: 0.28246\n",
      "[131]\tvalid_0's multi_logloss: 1.16246\tvalid_0's multi_error: 0.282167\n",
      "[132]\tvalid_0's multi_logloss: 1.15949\tvalid_0's multi_error: 0.281776\n",
      "[133]\tvalid_0's multi_logloss: 1.15658\tvalid_0's multi_error: 0.281091\n",
      "[134]\tvalid_0's multi_logloss: 1.15381\tvalid_0's multi_error: 0.28158\n",
      "[135]\tvalid_0's multi_logloss: 1.15099\tvalid_0's multi_error: 0.281678\n",
      "[136]\tvalid_0's multi_logloss: 1.14819\tvalid_0's multi_error: 0.281971\n",
      "[137]\tvalid_0's multi_logloss: 1.14537\tvalid_0's multi_error: 0.281873\n",
      "[138]\tvalid_0's multi_logloss: 1.14256\tvalid_0's multi_error: 0.281776\n",
      "[139]\tvalid_0's multi_logloss: 1.13989\tvalid_0's multi_error: 0.28158\n",
      "[140]\tvalid_0's multi_logloss: 1.13726\tvalid_0's multi_error: 0.281287\n",
      "[141]\tvalid_0's multi_logloss: 1.13454\tvalid_0's multi_error: 0.281189\n",
      "[142]\tvalid_0's multi_logloss: 1.13188\tvalid_0's multi_error: 0.28158\n",
      "[143]\tvalid_0's multi_logloss: 1.12929\tvalid_0's multi_error: 0.281482\n",
      "[144]\tvalid_0's multi_logloss: 1.12678\tvalid_0's multi_error: 0.28158\n",
      "[145]\tvalid_0's multi_logloss: 1.12432\tvalid_0's multi_error: 0.281287\n",
      "[146]\tvalid_0's multi_logloss: 1.12188\tvalid_0's multi_error: 0.281287\n",
      "[147]\tvalid_0's multi_logloss: 1.11954\tvalid_0's multi_error: 0.281287\n",
      "[148]\tvalid_0's multi_logloss: 1.11718\tvalid_0's multi_error: 0.280896\n",
      "[149]\tvalid_0's multi_logloss: 1.11476\tvalid_0's multi_error: 0.2807\n",
      "[150]\tvalid_0's multi_logloss: 1.11234\tvalid_0's multi_error: 0.280211\n",
      "[151]\tvalid_0's multi_logloss: 1.11001\tvalid_0's multi_error: 0.279918\n",
      "[152]\tvalid_0's multi_logloss: 1.10773\tvalid_0's multi_error: 0.279625\n",
      "[153]\tvalid_0's multi_logloss: 1.10549\tvalid_0's multi_error: 0.279429\n",
      "[154]\tvalid_0's multi_logloss: 1.10319\tvalid_0's multi_error: 0.279038\n",
      "[155]\tvalid_0's multi_logloss: 1.10102\tvalid_0's multi_error: 0.278842\n",
      "[156]\tvalid_0's multi_logloss: 1.0988\tvalid_0's multi_error: 0.278549\n",
      "[157]\tvalid_0's multi_logloss: 1.0967\tvalid_0's multi_error: 0.278842\n",
      "[158]\tvalid_0's multi_logloss: 1.09452\tvalid_0's multi_error: 0.278451\n",
      "[159]\tvalid_0's multi_logloss: 1.09238\tvalid_0's multi_error: 0.278549\n",
      "[160]\tvalid_0's multi_logloss: 1.09032\tvalid_0's multi_error: 0.278256\n",
      "[161]\tvalid_0's multi_logloss: 1.08821\tvalid_0's multi_error: 0.277767\n",
      "[162]\tvalid_0's multi_logloss: 1.08614\tvalid_0's multi_error: 0.27806\n",
      "[163]\tvalid_0's multi_logloss: 1.0841\tvalid_0's multi_error: 0.277571\n",
      "[164]\tvalid_0's multi_logloss: 1.08205\tvalid_0's multi_error: 0.277376\n",
      "[165]\tvalid_0's multi_logloss: 1.08013\tvalid_0's multi_error: 0.27806\n",
      "[166]\tvalid_0's multi_logloss: 1.07818\tvalid_0's multi_error: 0.277865\n",
      "[167]\tvalid_0's multi_logloss: 1.07627\tvalid_0's multi_error: 0.277474\n",
      "[168]\tvalid_0's multi_logloss: 1.07432\tvalid_0's multi_error: 0.27806\n",
      "[169]\tvalid_0's multi_logloss: 1.07242\tvalid_0's multi_error: 0.277962\n",
      "[170]\tvalid_0's multi_logloss: 1.0706\tvalid_0's multi_error: 0.27718\n",
      "[171]\tvalid_0's multi_logloss: 1.06879\tvalid_0's multi_error: 0.277474\n",
      "[172]\tvalid_0's multi_logloss: 1.06692\tvalid_0's multi_error: 0.277376\n",
      "[173]\tvalid_0's multi_logloss: 1.06508\tvalid_0's multi_error: 0.277376\n",
      "[174]\tvalid_0's multi_logloss: 1.06327\tvalid_0's multi_error: 0.277474\n",
      "[175]\tvalid_0's multi_logloss: 1.06147\tvalid_0's multi_error: 0.277376\n",
      "[176]\tvalid_0's multi_logloss: 1.05971\tvalid_0's multi_error: 0.27718\n",
      "[177]\tvalid_0's multi_logloss: 1.05797\tvalid_0's multi_error: 0.276985\n",
      "[178]\tvalid_0's multi_logloss: 1.0562\tvalid_0's multi_error: 0.276789\n",
      "[179]\tvalid_0's multi_logloss: 1.0545\tvalid_0's multi_error: 0.276398\n",
      "[180]\tvalid_0's multi_logloss: 1.0528\tvalid_0's multi_error: 0.2763\n",
      "[181]\tvalid_0's multi_logloss: 1.05118\tvalid_0's multi_error: 0.276007\n",
      "[182]\tvalid_0's multi_logloss: 1.04956\tvalid_0's multi_error: 0.275714\n",
      "[183]\tvalid_0's multi_logloss: 1.04791\tvalid_0's multi_error: 0.275518\n",
      "[184]\tvalid_0's multi_logloss: 1.04633\tvalid_0's multi_error: 0.275323\n",
      "[185]\tvalid_0's multi_logloss: 1.04473\tvalid_0's multi_error: 0.275616\n",
      "[186]\tvalid_0's multi_logloss: 1.04305\tvalid_0's multi_error: 0.275127\n",
      "[187]\tvalid_0's multi_logloss: 1.04151\tvalid_0's multi_error: 0.27542\n",
      "[188]\tvalid_0's multi_logloss: 1.03992\tvalid_0's multi_error: 0.274932\n",
      "[189]\tvalid_0's multi_logloss: 1.03839\tvalid_0's multi_error: 0.275127\n",
      "[190]\tvalid_0's multi_logloss: 1.03683\tvalid_0's multi_error: 0.27454\n",
      "[191]\tvalid_0's multi_logloss: 1.03529\tvalid_0's multi_error: 0.274834\n",
      "[192]\tvalid_0's multi_logloss: 1.03378\tvalid_0's multi_error: 0.274443\n",
      "[193]\tvalid_0's multi_logloss: 1.03231\tvalid_0's multi_error: 0.27454\n",
      "[194]\tvalid_0's multi_logloss: 1.0308\tvalid_0's multi_error: 0.274443\n",
      "[195]\tvalid_0's multi_logloss: 1.02929\tvalid_0's multi_error: 0.274149\n",
      "[196]\tvalid_0's multi_logloss: 1.02788\tvalid_0's multi_error: 0.274052\n",
      "[197]\tvalid_0's multi_logloss: 1.02648\tvalid_0's multi_error: 0.27454\n",
      "[198]\tvalid_0's multi_logloss: 1.0251\tvalid_0's multi_error: 0.274736\n",
      "[199]\tvalid_0's multi_logloss: 1.02371\tvalid_0's multi_error: 0.274443\n",
      "[200]\tvalid_0's multi_logloss: 1.02233\tvalid_0's multi_error: 0.274149\n",
      "[201]\tvalid_0's multi_logloss: 1.02093\tvalid_0's multi_error: 0.274149\n",
      "[202]\tvalid_0's multi_logloss: 1.01957\tvalid_0's multi_error: 0.27454\n",
      "[203]\tvalid_0's multi_logloss: 1.01826\tvalid_0's multi_error: 0.274247\n",
      "[204]\tvalid_0's multi_logloss: 1.017\tvalid_0's multi_error: 0.273758\n",
      "[205]\tvalid_0's multi_logloss: 1.01574\tvalid_0's multi_error: 0.273758\n",
      "[206]\tvalid_0's multi_logloss: 1.01438\tvalid_0's multi_error: 0.274149\n",
      "[207]\tvalid_0's multi_logloss: 1.01312\tvalid_0's multi_error: 0.273856\n",
      "[208]\tvalid_0's multi_logloss: 1.01187\tvalid_0's multi_error: 0.273269\n",
      "[209]\tvalid_0's multi_logloss: 1.01068\tvalid_0's multi_error: 0.273563\n",
      "[210]\tvalid_0's multi_logloss: 1.00949\tvalid_0's multi_error: 0.273367\n",
      "[211]\tvalid_0's multi_logloss: 1.00828\tvalid_0's multi_error: 0.273172\n",
      "[212]\tvalid_0's multi_logloss: 1.00707\tvalid_0's multi_error: 0.272976\n",
      "[213]\tvalid_0's multi_logloss: 1.00589\tvalid_0's multi_error: 0.273465\n",
      "[214]\tvalid_0's multi_logloss: 1.00475\tvalid_0's multi_error: 0.272976\n",
      "[215]\tvalid_0's multi_logloss: 1.00355\tvalid_0's multi_error: 0.272585\n",
      "[216]\tvalid_0's multi_logloss: 1.00243\tvalid_0's multi_error: 0.272683\n",
      "[217]\tvalid_0's multi_logloss: 1.0012\tvalid_0's multi_error: 0.272683\n",
      "[218]\tvalid_0's multi_logloss: 1.00013\tvalid_0's multi_error: 0.272487\n",
      "[219]\tvalid_0's multi_logloss: 0.998895\tvalid_0's multi_error: 0.272292\n",
      "[220]\tvalid_0's multi_logloss: 0.997794\tvalid_0's multi_error: 0.272487\n",
      "[221]\tvalid_0's multi_logloss: 0.996631\tvalid_0's multi_error: 0.272683\n",
      "[222]\tvalid_0's multi_logloss: 0.995537\tvalid_0's multi_error: 0.27239\n",
      "[223]\tvalid_0's multi_logloss: 0.99445\tvalid_0's multi_error: 0.272683\n",
      "[224]\tvalid_0's multi_logloss: 0.993412\tvalid_0's multi_error: 0.272585\n",
      "[225]\tvalid_0's multi_logloss: 0.992346\tvalid_0's multi_error: 0.272487\n",
      "[226]\tvalid_0's multi_logloss: 0.991274\tvalid_0's multi_error: 0.272585\n",
      "[227]\tvalid_0's multi_logloss: 0.990285\tvalid_0's multi_error: 0.27239\n",
      "[228]\tvalid_0's multi_logloss: 0.989244\tvalid_0's multi_error: 0.272096\n",
      "[229]\tvalid_0's multi_logloss: 0.988146\tvalid_0's multi_error: 0.271803\n",
      "[230]\tvalid_0's multi_logloss: 0.987174\tvalid_0's multi_error: 0.271803\n",
      "[231]\tvalid_0's multi_logloss: 0.986129\tvalid_0's multi_error: 0.27151\n",
      "[232]\tvalid_0's multi_logloss: 0.985121\tvalid_0's multi_error: 0.271314\n",
      "[233]\tvalid_0's multi_logloss: 0.984044\tvalid_0's multi_error: 0.27151\n"
     ]
    },
    {
     "name": "stdout",
     "output_type": "stream",
     "text": [
      "[234]\tvalid_0's multi_logloss: 0.983051\tvalid_0's multi_error: 0.271118\n",
      "[235]\tvalid_0's multi_logloss: 0.982006\tvalid_0's multi_error: 0.270923\n",
      "[236]\tvalid_0's multi_logloss: 0.981026\tvalid_0's multi_error: 0.271118\n",
      "[237]\tvalid_0's multi_logloss: 0.980049\tvalid_0's multi_error: 0.271118\n",
      "[238]\tvalid_0's multi_logloss: 0.979001\tvalid_0's multi_error: 0.271118\n",
      "[239]\tvalid_0's multi_logloss: 0.978111\tvalid_0's multi_error: 0.27063\n",
      "[240]\tvalid_0's multi_logloss: 0.977132\tvalid_0's multi_error: 0.270239\n",
      "[241]\tvalid_0's multi_logloss: 0.976155\tvalid_0's multi_error: 0.270239\n",
      "[242]\tvalid_0's multi_logloss: 0.975199\tvalid_0's multi_error: 0.270043\n",
      "[243]\tvalid_0's multi_logloss: 0.974271\tvalid_0's multi_error: 0.26975\n",
      "[244]\tvalid_0's multi_logloss: 0.973373\tvalid_0's multi_error: 0.270043\n",
      "[245]\tvalid_0's multi_logloss: 0.972398\tvalid_0's multi_error: 0.26975\n",
      "[246]\tvalid_0's multi_logloss: 0.97151\tvalid_0's multi_error: 0.269847\n",
      "[247]\tvalid_0's multi_logloss: 0.970654\tvalid_0's multi_error: 0.270043\n",
      "[248]\tvalid_0's multi_logloss: 0.969754\tvalid_0's multi_error: 0.26975\n",
      "[249]\tvalid_0's multi_logloss: 0.968877\tvalid_0's multi_error: 0.26975\n",
      "[250]\tvalid_0's multi_logloss: 0.967895\tvalid_0's multi_error: 0.269652\n",
      "[251]\tvalid_0's multi_logloss: 0.966931\tvalid_0's multi_error: 0.270043\n",
      "[252]\tvalid_0's multi_logloss: 0.965998\tvalid_0's multi_error: 0.269945\n",
      "[253]\tvalid_0's multi_logloss: 0.965116\tvalid_0's multi_error: 0.270043\n",
      "[254]\tvalid_0's multi_logloss: 0.96424\tvalid_0's multi_error: 0.269554\n",
      "[255]\tvalid_0's multi_logloss: 0.963421\tvalid_0's multi_error: 0.26975\n",
      "[256]\tvalid_0's multi_logloss: 0.962541\tvalid_0's multi_error: 0.269652\n",
      "[257]\tvalid_0's multi_logloss: 0.961769\tvalid_0's multi_error: 0.269065\n",
      "[258]\tvalid_0's multi_logloss: 0.960926\tvalid_0's multi_error: 0.269065\n",
      "[259]\tvalid_0's multi_logloss: 0.960131\tvalid_0's multi_error: 0.26887\n",
      "[260]\tvalid_0's multi_logloss: 0.95931\tvalid_0's multi_error: 0.268088\n",
      "[261]\tvalid_0's multi_logloss: 0.958553\tvalid_0's multi_error: 0.267892\n",
      "[262]\tvalid_0's multi_logloss: 0.957798\tvalid_0's multi_error: 0.268185\n",
      "[263]\tvalid_0's multi_logloss: 0.956959\tvalid_0's multi_error: 0.267794\n",
      "[264]\tvalid_0's multi_logloss: 0.956165\tvalid_0's multi_error: 0.26799\n",
      "[265]\tvalid_0's multi_logloss: 0.955363\tvalid_0's multi_error: 0.268088\n",
      "[266]\tvalid_0's multi_logloss: 0.95466\tvalid_0's multi_error: 0.268185\n",
      "[267]\tvalid_0's multi_logloss: 0.953875\tvalid_0's multi_error: 0.267599\n",
      "[268]\tvalid_0's multi_logloss: 0.953101\tvalid_0's multi_error: 0.26799\n",
      "[269]\tvalid_0's multi_logloss: 0.952342\tvalid_0's multi_error: 0.267794\n",
      "[270]\tvalid_0's multi_logloss: 0.951519\tvalid_0's multi_error: 0.267892\n",
      "[271]\tvalid_0's multi_logloss: 0.95071\tvalid_0's multi_error: 0.267599\n",
      "[272]\tvalid_0's multi_logloss: 0.950021\tvalid_0's multi_error: 0.267794\n",
      "[273]\tvalid_0's multi_logloss: 0.949259\tvalid_0's multi_error: 0.267892\n",
      "[274]\tvalid_0's multi_logloss: 0.9485\tvalid_0's multi_error: 0.26799\n",
      "[275]\tvalid_0's multi_logloss: 0.947723\tvalid_0's multi_error: 0.267599\n",
      "[276]\tvalid_0's multi_logloss: 0.946959\tvalid_0's multi_error: 0.267305\n",
      "[277]\tvalid_0's multi_logloss: 0.946187\tvalid_0's multi_error: 0.267305\n",
      "[278]\tvalid_0's multi_logloss: 0.94542\tvalid_0's multi_error: 0.267208\n",
      "[279]\tvalid_0's multi_logloss: 0.944747\tvalid_0's multi_error: 0.266914\n",
      "[280]\tvalid_0's multi_logloss: 0.944036\tvalid_0's multi_error: 0.266621\n",
      "[281]\tvalid_0's multi_logloss: 0.943256\tvalid_0's multi_error: 0.266621\n",
      "[282]\tvalid_0's multi_logloss: 0.942566\tvalid_0's multi_error: 0.266425\n",
      "[283]\tvalid_0's multi_logloss: 0.941877\tvalid_0's multi_error: 0.266034\n",
      "[284]\tvalid_0's multi_logloss: 0.941214\tvalid_0's multi_error: 0.266034\n",
      "[285]\tvalid_0's multi_logloss: 0.940475\tvalid_0's multi_error: 0.265937\n",
      "[286]\tvalid_0's multi_logloss: 0.939744\tvalid_0's multi_error: 0.265741\n",
      "[287]\tvalid_0's multi_logloss: 0.939032\tvalid_0's multi_error: 0.265741\n",
      "[288]\tvalid_0's multi_logloss: 0.938408\tvalid_0's multi_error: 0.265741\n",
      "[289]\tvalid_0's multi_logloss: 0.937691\tvalid_0's multi_error: 0.265937\n",
      "[290]\tvalid_0's multi_logloss: 0.937068\tvalid_0's multi_error: 0.265741\n",
      "[291]\tvalid_0's multi_logloss: 0.936404\tvalid_0's multi_error: 0.26535\n",
      "[292]\tvalid_0's multi_logloss: 0.935714\tvalid_0's multi_error: 0.265643\n",
      "[293]\tvalid_0's multi_logloss: 0.935056\tvalid_0's multi_error: 0.265448\n",
      "[294]\tvalid_0's multi_logloss: 0.934329\tvalid_0's multi_error: 0.265643\n",
      "[295]\tvalid_0's multi_logloss: 0.933805\tvalid_0's multi_error: 0.265937\n",
      "[296]\tvalid_0's multi_logloss: 0.933106\tvalid_0's multi_error: 0.265741\n",
      "[297]\tvalid_0's multi_logloss: 0.932432\tvalid_0's multi_error: 0.265741\n",
      "[298]\tvalid_0's multi_logloss: 0.931846\tvalid_0's multi_error: 0.265741\n",
      "[299]\tvalid_0's multi_logloss: 0.93124\tvalid_0's multi_error: 0.265448\n",
      "[300]\tvalid_0's multi_logloss: 0.930579\tvalid_0's multi_error: 0.265448\n",
      "[301]\tvalid_0's multi_logloss: 0.929985\tvalid_0's multi_error: 0.265741\n",
      "[302]\tvalid_0's multi_logloss: 0.929378\tvalid_0's multi_error: 0.265546\n",
      "[303]\tvalid_0's multi_logloss: 0.928694\tvalid_0's multi_error: 0.26535\n",
      "[304]\tvalid_0's multi_logloss: 0.928102\tvalid_0's multi_error: 0.265057\n",
      "[305]\tvalid_0's multi_logloss: 0.927532\tvalid_0's multi_error: 0.264861\n",
      "[306]\tvalid_0's multi_logloss: 0.926922\tvalid_0's multi_error: 0.264861\n",
      "[307]\tvalid_0's multi_logloss: 0.926347\tvalid_0's multi_error: 0.264959\n",
      "[308]\tvalid_0's multi_logloss: 0.925717\tvalid_0's multi_error: 0.265154\n",
      "[309]\tvalid_0's multi_logloss: 0.925196\tvalid_0's multi_error: 0.26535\n",
      "[310]\tvalid_0's multi_logloss: 0.924647\tvalid_0's multi_error: 0.265252\n",
      "[311]\tvalid_0's multi_logloss: 0.924112\tvalid_0's multi_error: 0.265154\n",
      "[312]\tvalid_0's multi_logloss: 0.923519\tvalid_0's multi_error: 0.265057\n",
      "[313]\tvalid_0's multi_logloss: 0.922984\tvalid_0's multi_error: 0.264861\n",
      "[314]\tvalid_0's multi_logloss: 0.922422\tvalid_0's multi_error: 0.264568\n",
      "[315]\tvalid_0's multi_logloss: 0.921884\tvalid_0's multi_error: 0.264275\n",
      "[316]\tvalid_0's multi_logloss: 0.921234\tvalid_0's multi_error: 0.264275\n",
      "[317]\tvalid_0's multi_logloss: 0.920699\tvalid_0's multi_error: 0.264079\n",
      "[318]\tvalid_0's multi_logloss: 0.920168\tvalid_0's multi_error: 0.264177\n",
      "[319]\tvalid_0's multi_logloss: 0.919541\tvalid_0's multi_error: 0.264275\n",
      "[320]\tvalid_0's multi_logloss: 0.918989\tvalid_0's multi_error: 0.264079\n",
      "[321]\tvalid_0's multi_logloss: 0.918503\tvalid_0's multi_error: 0.263786\n",
      "[322]\tvalid_0's multi_logloss: 0.917999\tvalid_0's multi_error: 0.26359\n",
      "[323]\tvalid_0's multi_logloss: 0.917443\tvalid_0's multi_error: 0.263688\n",
      "[324]\tvalid_0's multi_logloss: 0.916871\tvalid_0's multi_error: 0.26359\n",
      "[325]\tvalid_0's multi_logloss: 0.916391\tvalid_0's multi_error: 0.263199\n",
      "[326]\tvalid_0's multi_logloss: 0.915895\tvalid_0's multi_error: 0.263297\n",
      "[327]\tvalid_0's multi_logloss: 0.915368\tvalid_0's multi_error: 0.263199\n",
      "[328]\tvalid_0's multi_logloss: 0.914869\tvalid_0's multi_error: 0.263004\n",
      "[329]\tvalid_0's multi_logloss: 0.914336\tvalid_0's multi_error: 0.263199\n",
      "[330]\tvalid_0's multi_logloss: 0.913796\tvalid_0's multi_error: 0.262906\n",
      "[331]\tvalid_0's multi_logloss: 0.913317\tvalid_0's multi_error: 0.263004\n",
      "[332]\tvalid_0's multi_logloss: 0.912786\tvalid_0's multi_error: 0.263199\n",
      "[333]\tvalid_0's multi_logloss: 0.912269\tvalid_0's multi_error: 0.262906\n",
      "[334]\tvalid_0's multi_logloss: 0.911816\tvalid_0's multi_error: 0.262808\n",
      "[335]\tvalid_0's multi_logloss: 0.91133\tvalid_0's multi_error: 0.262612\n",
      "[336]\tvalid_0's multi_logloss: 0.91079\tvalid_0's multi_error: 0.262808\n",
      "[337]\tvalid_0's multi_logloss: 0.910289\tvalid_0's multi_error: 0.262515\n",
      "[338]\tvalid_0's multi_logloss: 0.909777\tvalid_0's multi_error: 0.262612\n",
      "[339]\tvalid_0's multi_logloss: 0.909262\tvalid_0's multi_error: 0.262515\n",
      "[340]\tvalid_0's multi_logloss: 0.908824\tvalid_0's multi_error: 0.262319\n",
      "[341]\tvalid_0's multi_logloss: 0.908362\tvalid_0's multi_error: 0.261928\n",
      "[342]\tvalid_0's multi_logloss: 0.907888\tvalid_0's multi_error: 0.262515\n",
      "[343]\tvalid_0's multi_logloss: 0.90745\tvalid_0's multi_error: 0.262124\n",
      "[344]\tvalid_0's multi_logloss: 0.906984\tvalid_0's multi_error: 0.261928\n",
      "[345]\tvalid_0's multi_logloss: 0.90654\tvalid_0's multi_error: 0.261928\n",
      "[346]\tvalid_0's multi_logloss: 0.906078\tvalid_0's multi_error: 0.261928\n",
      "[347]\tvalid_0's multi_logloss: 0.905658\tvalid_0's multi_error: 0.261732\n",
      "[348]\tvalid_0's multi_logloss: 0.905203\tvalid_0's multi_error: 0.261928\n"
     ]
    },
    {
     "name": "stdout",
     "output_type": "stream",
     "text": [
      "[349]\tvalid_0's multi_logloss: 0.904704\tvalid_0's multi_error: 0.262026\n",
      "[350]\tvalid_0's multi_logloss: 0.904193\tvalid_0's multi_error: 0.262124\n",
      "[351]\tvalid_0's multi_logloss: 0.903723\tvalid_0's multi_error: 0.262026\n",
      "[352]\tvalid_0's multi_logloss: 0.903241\tvalid_0's multi_error: 0.261732\n",
      "[353]\tvalid_0's multi_logloss: 0.902824\tvalid_0's multi_error: 0.261341\n",
      "[354]\tvalid_0's multi_logloss: 0.90236\tvalid_0's multi_error: 0.261341\n",
      "[355]\tvalid_0's multi_logloss: 0.901996\tvalid_0's multi_error: 0.261341\n",
      "[356]\tvalid_0's multi_logloss: 0.901553\tvalid_0's multi_error: 0.261146\n",
      "[357]\tvalid_0's multi_logloss: 0.901091\tvalid_0's multi_error: 0.261244\n",
      "[358]\tvalid_0's multi_logloss: 0.900624\tvalid_0's multi_error: 0.260657\n",
      "[359]\tvalid_0's multi_logloss: 0.900235\tvalid_0's multi_error: 0.26095\n",
      "[360]\tvalid_0's multi_logloss: 0.899813\tvalid_0's multi_error: 0.260853\n",
      "[361]\tvalid_0's multi_logloss: 0.899473\tvalid_0's multi_error: 0.26095\n",
      "[362]\tvalid_0's multi_logloss: 0.899004\tvalid_0's multi_error: 0.260657\n",
      "[363]\tvalid_0's multi_logloss: 0.898676\tvalid_0's multi_error: 0.260755\n",
      "[364]\tvalid_0's multi_logloss: 0.898258\tvalid_0's multi_error: 0.260364\n",
      "[365]\tvalid_0's multi_logloss: 0.897779\tvalid_0's multi_error: 0.260266\n",
      "[366]\tvalid_0's multi_logloss: 0.897371\tvalid_0's multi_error: 0.260364\n",
      "[367]\tvalid_0's multi_logloss: 0.896967\tvalid_0's multi_error: 0.260461\n",
      "[368]\tvalid_0's multi_logloss: 0.896532\tvalid_0's multi_error: 0.260364\n",
      "[369]\tvalid_0's multi_logloss: 0.896128\tvalid_0's multi_error: 0.260364\n",
      "[370]\tvalid_0's multi_logloss: 0.89575\tvalid_0's multi_error: 0.260461\n",
      "[371]\tvalid_0's multi_logloss: 0.895395\tvalid_0's multi_error: 0.260364\n",
      "[372]\tvalid_0's multi_logloss: 0.895059\tvalid_0's multi_error: 0.260461\n",
      "[373]\tvalid_0's multi_logloss: 0.894673\tvalid_0's multi_error: 0.260364\n",
      "[374]\tvalid_0's multi_logloss: 0.894262\tvalid_0's multi_error: 0.26007\n",
      "[375]\tvalid_0's multi_logloss: 0.893955\tvalid_0's multi_error: 0.26007\n",
      "[376]\tvalid_0's multi_logloss: 0.893565\tvalid_0's multi_error: 0.259875\n",
      "[377]\tvalid_0's multi_logloss: 0.893173\tvalid_0's multi_error: 0.259973\n",
      "[378]\tvalid_0's multi_logloss: 0.892829\tvalid_0's multi_error: 0.259973\n",
      "[379]\tvalid_0's multi_logloss: 0.892468\tvalid_0's multi_error: 0.260461\n",
      "[380]\tvalid_0's multi_logloss: 0.892123\tvalid_0's multi_error: 0.260266\n",
      "[381]\tvalid_0's multi_logloss: 0.891782\tvalid_0's multi_error: 0.259973\n",
      "[382]\tvalid_0's multi_logloss: 0.891388\tvalid_0's multi_error: 0.259679\n",
      "[383]\tvalid_0's multi_logloss: 0.891038\tvalid_0's multi_error: 0.259875\n",
      "[384]\tvalid_0's multi_logloss: 0.890698\tvalid_0's multi_error: 0.259484\n",
      "[385]\tvalid_0's multi_logloss: 0.890385\tvalid_0's multi_error: 0.259679\n",
      "[386]\tvalid_0's multi_logloss: 0.89005\tvalid_0's multi_error: 0.25919\n",
      "[387]\tvalid_0's multi_logloss: 0.889758\tvalid_0's multi_error: 0.259484\n",
      "[388]\tvalid_0's multi_logloss: 0.889411\tvalid_0's multi_error: 0.259679\n",
      "[389]\tvalid_0's multi_logloss: 0.889129\tvalid_0's multi_error: 0.259679\n",
      "[390]\tvalid_0's multi_logloss: 0.888835\tvalid_0's multi_error: 0.259288\n",
      "[391]\tvalid_0's multi_logloss: 0.888485\tvalid_0's multi_error: 0.259484\n",
      "[392]\tvalid_0's multi_logloss: 0.888143\tvalid_0's multi_error: 0.259875\n",
      "[393]\tvalid_0's multi_logloss: 0.887776\tvalid_0's multi_error: 0.259777\n",
      "[394]\tvalid_0's multi_logloss: 0.887428\tvalid_0's multi_error: 0.259679\n",
      "[395]\tvalid_0's multi_logloss: 0.887088\tvalid_0's multi_error: 0.259582\n",
      "[396]\tvalid_0's multi_logloss: 0.886739\tvalid_0's multi_error: 0.259679\n",
      "[397]\tvalid_0's multi_logloss: 0.886421\tvalid_0's multi_error: 0.25919\n",
      "[398]\tvalid_0's multi_logloss: 0.886097\tvalid_0's multi_error: 0.258995\n",
      "[399]\tvalid_0's multi_logloss: 0.885777\tvalid_0's multi_error: 0.25919\n",
      "[400]\tvalid_0's multi_logloss: 0.885506\tvalid_0's multi_error: 0.259288\n",
      "[401]\tvalid_0's multi_logloss: 0.88524\tvalid_0's multi_error: 0.258604\n",
      "[402]\tvalid_0's multi_logloss: 0.884945\tvalid_0's multi_error: 0.258799\n",
      "[403]\tvalid_0's multi_logloss: 0.884582\tvalid_0's multi_error: 0.258799\n",
      "[404]\tvalid_0's multi_logloss: 0.884266\tvalid_0's multi_error: 0.258408\n",
      "[405]\tvalid_0's multi_logloss: 0.883904\tvalid_0's multi_error: 0.258897\n",
      "[406]\tvalid_0's multi_logloss: 0.883612\tvalid_0's multi_error: 0.258897\n",
      "[407]\tvalid_0's multi_logloss: 0.883335\tvalid_0's multi_error: 0.258995\n",
      "[408]\tvalid_0's multi_logloss: 0.88305\tvalid_0's multi_error: 0.258897\n",
      "[409]\tvalid_0's multi_logloss: 0.882724\tvalid_0's multi_error: 0.258408\n",
      "[410]\tvalid_0's multi_logloss: 0.88245\tvalid_0's multi_error: 0.258799\n",
      "[411]\tvalid_0's multi_logloss: 0.882175\tvalid_0's multi_error: 0.258702\n",
      "[412]\tvalid_0's multi_logloss: 0.881897\tvalid_0's multi_error: 0.258604\n",
      "[413]\tvalid_0's multi_logloss: 0.881649\tvalid_0's multi_error: 0.258408\n",
      "[414]\tvalid_0's multi_logloss: 0.881434\tvalid_0's multi_error: 0.258702\n",
      "[415]\tvalid_0's multi_logloss: 0.881096\tvalid_0's multi_error: 0.258506\n",
      "[416]\tvalid_0's multi_logloss: 0.880795\tvalid_0's multi_error: 0.258213\n",
      "[417]\tvalid_0's multi_logloss: 0.880498\tvalid_0's multi_error: 0.258213\n",
      "[418]\tvalid_0's multi_logloss: 0.880207\tvalid_0's multi_error: 0.258311\n",
      "[419]\tvalid_0's multi_logloss: 0.879972\tvalid_0's multi_error: 0.257919\n",
      "[420]\tvalid_0's multi_logloss: 0.879677\tvalid_0's multi_error: 0.257822\n",
      "[421]\tvalid_0's multi_logloss: 0.879418\tvalid_0's multi_error: 0.257822\n",
      "[422]\tvalid_0's multi_logloss: 0.879169\tvalid_0's multi_error: 0.257724\n",
      "[423]\tvalid_0's multi_logloss: 0.878904\tvalid_0's multi_error: 0.257626\n",
      "[424]\tvalid_0's multi_logloss: 0.878578\tvalid_0's multi_error: 0.257724\n",
      "[425]\tvalid_0's multi_logloss: 0.878311\tvalid_0's multi_error: 0.257822\n",
      "[426]\tvalid_0's multi_logloss: 0.878037\tvalid_0's multi_error: 0.257822\n",
      "[427]\tvalid_0's multi_logloss: 0.877738\tvalid_0's multi_error: 0.257333\n",
      "[428]\tvalid_0's multi_logloss: 0.877457\tvalid_0's multi_error: 0.257235\n",
      "[429]\tvalid_0's multi_logloss: 0.877228\tvalid_0's multi_error: 0.256942\n",
      "[430]\tvalid_0's multi_logloss: 0.876981\tvalid_0's multi_error: 0.256648\n",
      "[431]\tvalid_0's multi_logloss: 0.876676\tvalid_0's multi_error: 0.256844\n",
      "[432]\tvalid_0's multi_logloss: 0.876392\tvalid_0's multi_error: 0.257137\n",
      "[433]\tvalid_0's multi_logloss: 0.87615\tvalid_0's multi_error: 0.257039\n",
      "[434]\tvalid_0's multi_logloss: 0.875945\tvalid_0's multi_error: 0.256844\n",
      "[435]\tvalid_0's multi_logloss: 0.875711\tvalid_0's multi_error: 0.257235\n",
      "[436]\tvalid_0's multi_logloss: 0.875417\tvalid_0's multi_error: 0.256746\n",
      "[437]\tvalid_0's multi_logloss: 0.875208\tvalid_0's multi_error: 0.257235\n",
      "[438]\tvalid_0's multi_logloss: 0.874974\tvalid_0's multi_error: 0.257039\n",
      "[439]\tvalid_0's multi_logloss: 0.874764\tvalid_0's multi_error: 0.256844\n",
      "[440]\tvalid_0's multi_logloss: 0.874456\tvalid_0's multi_error: 0.256844\n",
      "[441]\tvalid_0's multi_logloss: 0.874234\tvalid_0's multi_error: 0.256551\n",
      "[442]\tvalid_0's multi_logloss: 0.873944\tvalid_0's multi_error: 0.256942\n",
      "[443]\tvalid_0's multi_logloss: 0.873692\tvalid_0's multi_error: 0.256453\n",
      "[444]\tvalid_0's multi_logloss: 0.873409\tvalid_0's multi_error: 0.256453\n",
      "[445]\tvalid_0's multi_logloss: 0.873187\tvalid_0's multi_error: 0.25616\n",
      "[446]\tvalid_0's multi_logloss: 0.872983\tvalid_0's multi_error: 0.256355\n",
      "[447]\tvalid_0's multi_logloss: 0.872715\tvalid_0's multi_error: 0.256062\n",
      "[448]\tvalid_0's multi_logloss: 0.87244\tvalid_0's multi_error: 0.256257\n",
      "[449]\tvalid_0's multi_logloss: 0.872229\tvalid_0's multi_error: 0.256257\n",
      "[450]\tvalid_0's multi_logloss: 0.872014\tvalid_0's multi_error: 0.256257\n",
      "[451]\tvalid_0's multi_logloss: 0.871745\tvalid_0's multi_error: 0.255964\n",
      "[452]\tvalid_0's multi_logloss: 0.871505\tvalid_0's multi_error: 0.256062\n",
      "[453]\tvalid_0's multi_logloss: 0.871289\tvalid_0's multi_error: 0.255573\n",
      "[454]\tvalid_0's multi_logloss: 0.871091\tvalid_0's multi_error: 0.255768\n",
      "[455]\tvalid_0's multi_logloss: 0.870899\tvalid_0's multi_error: 0.255866\n",
      "[456]\tvalid_0's multi_logloss: 0.870648\tvalid_0's multi_error: 0.255964\n",
      "[457]\tvalid_0's multi_logloss: 0.870445\tvalid_0's multi_error: 0.25616\n",
      "[458]\tvalid_0's multi_logloss: 0.870154\tvalid_0's multi_error: 0.255964\n",
      "[459]\tvalid_0's multi_logloss: 0.869987\tvalid_0's multi_error: 0.255866\n",
      "[460]\tvalid_0's multi_logloss: 0.869749\tvalid_0's multi_error: 0.255573\n",
      "[461]\tvalid_0's multi_logloss: 0.869548\tvalid_0's multi_error: 0.25528\n",
      "[462]\tvalid_0's multi_logloss: 0.869309\tvalid_0's multi_error: 0.255573\n",
      "[463]\tvalid_0's multi_logloss: 0.869098\tvalid_0's multi_error: 0.255377\n"
     ]
    },
    {
     "name": "stdout",
     "output_type": "stream",
     "text": [
      "[464]\tvalid_0's multi_logloss: 0.868909\tvalid_0's multi_error: 0.255475\n",
      "[465]\tvalid_0's multi_logloss: 0.868693\tvalid_0's multi_error: 0.255182\n",
      "[466]\tvalid_0's multi_logloss: 0.868529\tvalid_0's multi_error: 0.255084\n",
      "[467]\tvalid_0's multi_logloss: 0.868328\tvalid_0's multi_error: 0.255182\n",
      "[468]\tvalid_0's multi_logloss: 0.86812\tvalid_0's multi_error: 0.255573\n",
      "[469]\tvalid_0's multi_logloss: 0.867947\tvalid_0's multi_error: 0.255475\n",
      "[470]\tvalid_0's multi_logloss: 0.86776\tvalid_0's multi_error: 0.255671\n",
      "[471]\tvalid_0's multi_logloss: 0.867568\tvalid_0's multi_error: 0.255475\n",
      "[472]\tvalid_0's multi_logloss: 0.867354\tvalid_0's multi_error: 0.255671\n",
      "[473]\tvalid_0's multi_logloss: 0.867183\tvalid_0's multi_error: 0.255084\n",
      "[474]\tvalid_0's multi_logloss: 0.866965\tvalid_0's multi_error: 0.255182\n",
      "[475]\tvalid_0's multi_logloss: 0.866831\tvalid_0's multi_error: 0.254791\n",
      "[476]\tvalid_0's multi_logloss: 0.866651\tvalid_0's multi_error: 0.254986\n",
      "[477]\tvalid_0's multi_logloss: 0.86648\tvalid_0's multi_error: 0.254889\n",
      "[478]\tvalid_0's multi_logloss: 0.866294\tvalid_0's multi_error: 0.25528\n",
      "[479]\tvalid_0's multi_logloss: 0.86611\tvalid_0's multi_error: 0.254693\n",
      "[480]\tvalid_0's multi_logloss: 0.865969\tvalid_0's multi_error: 0.255475\n",
      "[481]\tvalid_0's multi_logloss: 0.865781\tvalid_0's multi_error: 0.254889\n",
      "[482]\tvalid_0's multi_logloss: 0.86559\tvalid_0's multi_error: 0.254302\n",
      "[483]\tvalid_0's multi_logloss: 0.865425\tvalid_0's multi_error: 0.254497\n",
      "[484]\tvalid_0's multi_logloss: 0.865255\tvalid_0's multi_error: 0.254302\n",
      "[485]\tvalid_0's multi_logloss: 0.86507\tvalid_0's multi_error: 0.2544\n",
      "[486]\tvalid_0's multi_logloss: 0.864867\tvalid_0's multi_error: 0.254693\n",
      "[487]\tvalid_0's multi_logloss: 0.86473\tvalid_0's multi_error: 0.254497\n",
      "[488]\tvalid_0's multi_logloss: 0.864566\tvalid_0's multi_error: 0.2544\n",
      "[489]\tvalid_0's multi_logloss: 0.864416\tvalid_0's multi_error: 0.254497\n",
      "[490]\tvalid_0's multi_logloss: 0.864245\tvalid_0's multi_error: 0.254204\n",
      "[491]\tvalid_0's multi_logloss: 0.864084\tvalid_0's multi_error: 0.253813\n",
      "[492]\tvalid_0's multi_logloss: 0.863915\tvalid_0's multi_error: 0.254009\n",
      "[493]\tvalid_0's multi_logloss: 0.863723\tvalid_0's multi_error: 0.254204\n",
      "[494]\tvalid_0's multi_logloss: 0.863565\tvalid_0's multi_error: 0.254009\n",
      "[495]\tvalid_0's multi_logloss: 0.863389\tvalid_0's multi_error: 0.254204\n",
      "[496]\tvalid_0's multi_logloss: 0.863215\tvalid_0's multi_error: 0.254204\n",
      "[497]\tvalid_0's multi_logloss: 0.863035\tvalid_0's multi_error: 0.254302\n",
      "[498]\tvalid_0's multi_logloss: 0.862858\tvalid_0's multi_error: 0.253911\n",
      "[499]\tvalid_0's multi_logloss: 0.862707\tvalid_0's multi_error: 0.253813\n",
      "[500]\tvalid_0's multi_logloss: 0.862531\tvalid_0's multi_error: 0.253813\n",
      "[501]\tvalid_0's multi_logloss: 0.862437\tvalid_0's multi_error: 0.253911\n",
      "[502]\tvalid_0's multi_logloss: 0.862336\tvalid_0's multi_error: 0.25352\n",
      "[503]\tvalid_0's multi_logloss: 0.862145\tvalid_0's multi_error: 0.254009\n",
      "[504]\tvalid_0's multi_logloss: 0.862023\tvalid_0's multi_error: 0.253618\n",
      "[505]\tvalid_0's multi_logloss: 0.861864\tvalid_0's multi_error: 0.253618\n",
      "[506]\tvalid_0's multi_logloss: 0.861747\tvalid_0's multi_error: 0.253813\n",
      "[507]\tvalid_0's multi_logloss: 0.861586\tvalid_0's multi_error: 0.25352\n",
      "[508]\tvalid_0's multi_logloss: 0.861382\tvalid_0's multi_error: 0.253324\n",
      "[509]\tvalid_0's multi_logloss: 0.861263\tvalid_0's multi_error: 0.253422\n",
      "[510]\tvalid_0's multi_logloss: 0.861147\tvalid_0's multi_error: 0.253129\n",
      "[511]\tvalid_0's multi_logloss: 0.860998\tvalid_0's multi_error: 0.253226\n",
      "[512]\tvalid_0's multi_logloss: 0.860882\tvalid_0's multi_error: 0.253129\n",
      "[513]\tvalid_0's multi_logloss: 0.860723\tvalid_0's multi_error: 0.253031\n",
      "[514]\tvalid_0's multi_logloss: 0.860605\tvalid_0's multi_error: 0.253031\n",
      "[515]\tvalid_0's multi_logloss: 0.860469\tvalid_0's multi_error: 0.253129\n",
      "[516]\tvalid_0's multi_logloss: 0.860344\tvalid_0's multi_error: 0.253226\n",
      "[517]\tvalid_0's multi_logloss: 0.860222\tvalid_0's multi_error: 0.252933\n",
      "[518]\tvalid_0's multi_logloss: 0.860095\tvalid_0's multi_error: 0.253324\n",
      "[519]\tvalid_0's multi_logloss: 0.85999\tvalid_0's multi_error: 0.25352\n",
      "[520]\tvalid_0's multi_logloss: 0.859869\tvalid_0's multi_error: 0.25352\n",
      "[521]\tvalid_0's multi_logloss: 0.859759\tvalid_0's multi_error: 0.25352\n",
      "[522]\tvalid_0's multi_logloss: 0.859635\tvalid_0's multi_error: 0.253129\n",
      "[523]\tvalid_0's multi_logloss: 0.859503\tvalid_0's multi_error: 0.253324\n",
      "[524]\tvalid_0's multi_logloss: 0.85935\tvalid_0's multi_error: 0.253324\n",
      "[525]\tvalid_0's multi_logloss: 0.859218\tvalid_0's multi_error: 0.253422\n",
      "[526]\tvalid_0's multi_logloss: 0.859104\tvalid_0's multi_error: 0.252933\n",
      "[527]\tvalid_0's multi_logloss: 0.859014\tvalid_0's multi_error: 0.252835\n",
      "[528]\tvalid_0's multi_logloss: 0.85889\tvalid_0's multi_error: 0.252738\n",
      "[529]\tvalid_0's multi_logloss: 0.858774\tvalid_0's multi_error: 0.25264\n",
      "[530]\tvalid_0's multi_logloss: 0.85861\tvalid_0's multi_error: 0.25264\n",
      "[531]\tvalid_0's multi_logloss: 0.858436\tvalid_0's multi_error: 0.252249\n",
      "[532]\tvalid_0's multi_logloss: 0.858263\tvalid_0's multi_error: 0.252151\n",
      "[533]\tvalid_0's multi_logloss: 0.858145\tvalid_0's multi_error: 0.252053\n",
      "[534]\tvalid_0's multi_logloss: 0.858031\tvalid_0's multi_error: 0.252249\n",
      "[535]\tvalid_0's multi_logloss: 0.857933\tvalid_0's multi_error: 0.252053\n",
      "[536]\tvalid_0's multi_logloss: 0.857826\tvalid_0's multi_error: 0.252346\n",
      "[537]\tvalid_0's multi_logloss: 0.857682\tvalid_0's multi_error: 0.252053\n",
      "[538]\tvalid_0's multi_logloss: 0.857558\tvalid_0's multi_error: 0.251955\n",
      "[539]\tvalid_0's multi_logloss: 0.857376\tvalid_0's multi_error: 0.251662\n",
      "[540]\tvalid_0's multi_logloss: 0.857305\tvalid_0's multi_error: 0.251858\n",
      "[541]\tvalid_0's multi_logloss: 0.857191\tvalid_0's multi_error: 0.251662\n",
      "[542]\tvalid_0's multi_logloss: 0.857096\tvalid_0's multi_error: 0.251467\n",
      "[543]\tvalid_0's multi_logloss: 0.856944\tvalid_0's multi_error: 0.251858\n",
      "[544]\tvalid_0's multi_logloss: 0.856878\tvalid_0's multi_error: 0.25176\n",
      "[545]\tvalid_0's multi_logloss: 0.85673\tvalid_0's multi_error: 0.251955\n",
      "[546]\tvalid_0's multi_logloss: 0.85664\tvalid_0's multi_error: 0.252053\n",
      "[547]\tvalid_0's multi_logloss: 0.856551\tvalid_0's multi_error: 0.252053\n",
      "[548]\tvalid_0's multi_logloss: 0.856465\tvalid_0's multi_error: 0.252151\n",
      "[549]\tvalid_0's multi_logloss: 0.856381\tvalid_0's multi_error: 0.251858\n",
      "[550]\tvalid_0's multi_logloss: 0.856259\tvalid_0's multi_error: 0.251858\n",
      "[551]\tvalid_0's multi_logloss: 0.856174\tvalid_0's multi_error: 0.251858\n",
      "[552]\tvalid_0's multi_logloss: 0.856062\tvalid_0's multi_error: 0.25176\n",
      "[553]\tvalid_0's multi_logloss: 0.855939\tvalid_0's multi_error: 0.251662\n",
      "[554]\tvalid_0's multi_logloss: 0.855816\tvalid_0's multi_error: 0.251858\n",
      "[555]\tvalid_0's multi_logloss: 0.855716\tvalid_0's multi_error: 0.251662\n",
      "[556]\tvalid_0's multi_logloss: 0.855647\tvalid_0's multi_error: 0.25176\n",
      "[557]\tvalid_0's multi_logloss: 0.855529\tvalid_0's multi_error: 0.251858\n",
      "[558]\tvalid_0's multi_logloss: 0.855409\tvalid_0's multi_error: 0.251858\n",
      "[559]\tvalid_0's multi_logloss: 0.855299\tvalid_0's multi_error: 0.251858\n",
      "[560]\tvalid_0's multi_logloss: 0.855252\tvalid_0's multi_error: 0.25176\n",
      "[561]\tvalid_0's multi_logloss: 0.855127\tvalid_0's multi_error: 0.251858\n",
      "[562]\tvalid_0's multi_logloss: 0.855072\tvalid_0's multi_error: 0.251662\n",
      "[563]\tvalid_0's multi_logloss: 0.854977\tvalid_0's multi_error: 0.25176\n",
      "[564]\tvalid_0's multi_logloss: 0.854901\tvalid_0's multi_error: 0.251564\n",
      "[565]\tvalid_0's multi_logloss: 0.854823\tvalid_0's multi_error: 0.251564\n",
      "[566]\tvalid_0's multi_logloss: 0.854767\tvalid_0's multi_error: 0.251467\n",
      "[567]\tvalid_0's multi_logloss: 0.854695\tvalid_0's multi_error: 0.251467\n",
      "[568]\tvalid_0's multi_logloss: 0.854574\tvalid_0's multi_error: 0.251467\n",
      "[569]\tvalid_0's multi_logloss: 0.854513\tvalid_0's multi_error: 0.251173\n",
      "[570]\tvalid_0's multi_logloss: 0.85447\tvalid_0's multi_error: 0.251075\n",
      "[571]\tvalid_0's multi_logloss: 0.854374\tvalid_0's multi_error: 0.251075\n",
      "[572]\tvalid_0's multi_logloss: 0.854259\tvalid_0's multi_error: 0.25088\n",
      "[573]\tvalid_0's multi_logloss: 0.854201\tvalid_0's multi_error: 0.250587\n",
      "[574]\tvalid_0's multi_logloss: 0.854116\tvalid_0's multi_error: 0.25088\n",
      "[575]\tvalid_0's multi_logloss: 0.854007\tvalid_0's multi_error: 0.25088\n",
      "[576]\tvalid_0's multi_logloss: 0.853924\tvalid_0's multi_error: 0.250782\n",
      "[577]\tvalid_0's multi_logloss: 0.853843\tvalid_0's multi_error: 0.250978\n",
      "[578]\tvalid_0's multi_logloss: 0.853778\tvalid_0's multi_error: 0.250782\n"
     ]
    },
    {
     "name": "stdout",
     "output_type": "stream",
     "text": [
      "[579]\tvalid_0's multi_logloss: 0.853705\tvalid_0's multi_error: 0.250587\n",
      "[580]\tvalid_0's multi_logloss: 0.853593\tvalid_0's multi_error: 0.250489\n",
      "[581]\tvalid_0's multi_logloss: 0.853502\tvalid_0's multi_error: 0.250489\n",
      "[582]\tvalid_0's multi_logloss: 0.853458\tvalid_0's multi_error: 0.250489\n",
      "[583]\tvalid_0's multi_logloss: 0.853406\tvalid_0's multi_error: 0.250489\n",
      "[584]\tvalid_0's multi_logloss: 0.85335\tvalid_0's multi_error: 0.250489\n",
      "[585]\tvalid_0's multi_logloss: 0.853309\tvalid_0's multi_error: 0.250293\n",
      "[586]\tvalid_0's multi_logloss: 0.853201\tvalid_0's multi_error: 0.250293\n",
      "[587]\tvalid_0's multi_logloss: 0.853119\tvalid_0's multi_error: 0.250293\n",
      "[588]\tvalid_0's multi_logloss: 0.853076\tvalid_0's multi_error: 0.25\n",
      "[589]\tvalid_0's multi_logloss: 0.853016\tvalid_0's multi_error: 0.250098\n",
      "[590]\tvalid_0's multi_logloss: 0.852919\tvalid_0's multi_error: 0.25\n",
      "[591]\tvalid_0's multi_logloss: 0.852871\tvalid_0's multi_error: 0.25\n",
      "[592]\tvalid_0's multi_logloss: 0.852834\tvalid_0's multi_error: 0.25\n",
      "[593]\tvalid_0's multi_logloss: 0.85276\tvalid_0's multi_error: 0.249902\n",
      "[594]\tvalid_0's multi_logloss: 0.852681\tvalid_0's multi_error: 0.250196\n",
      "[595]\tvalid_0's multi_logloss: 0.852637\tvalid_0's multi_error: 0.250391\n",
      "[596]\tvalid_0's multi_logloss: 0.852578\tvalid_0's multi_error: 0.250489\n",
      "[597]\tvalid_0's multi_logloss: 0.852559\tvalid_0's multi_error: 0.250391\n",
      "[598]\tvalid_0's multi_logloss: 0.852502\tvalid_0's multi_error: 0.250587\n",
      "[599]\tvalid_0's multi_logloss: 0.852406\tvalid_0's multi_error: 0.250782\n",
      "[600]\tvalid_0's multi_logloss: 0.85235\tvalid_0's multi_error: 0.250587\n",
      "[601]\tvalid_0's multi_logloss: 0.852299\tvalid_0's multi_error: 0.250489\n",
      "[602]\tvalid_0's multi_logloss: 0.852249\tvalid_0's multi_error: 0.250293\n",
      "[603]\tvalid_0's multi_logloss: 0.852212\tvalid_0's multi_error: 0.250196\n",
      "[604]\tvalid_0's multi_logloss: 0.852153\tvalid_0's multi_error: 0.249804\n",
      "[605]\tvalid_0's multi_logloss: 0.852077\tvalid_0's multi_error: 0.249804\n",
      "[606]\tvalid_0's multi_logloss: 0.852051\tvalid_0's multi_error: 0.249707\n",
      "[607]\tvalid_0's multi_logloss: 0.852042\tvalid_0's multi_error: 0.249609\n",
      "[608]\tvalid_0's multi_logloss: 0.851967\tvalid_0's multi_error: 0.249316\n",
      "[609]\tvalid_0's multi_logloss: 0.851982\tvalid_0's multi_error: 0.249707\n",
      "[610]\tvalid_0's multi_logloss: 0.851949\tvalid_0's multi_error: 0.249902\n",
      "[611]\tvalid_0's multi_logloss: 0.851873\tvalid_0's multi_error: 0.249707\n",
      "[612]\tvalid_0's multi_logloss: 0.851822\tvalid_0's multi_error: 0.249511\n",
      "[613]\tvalid_0's multi_logloss: 0.851823\tvalid_0's multi_error: 0.249511\n",
      "[614]\tvalid_0's multi_logloss: 0.851752\tvalid_0's multi_error: 0.249511\n",
      "[615]\tvalid_0's multi_logloss: 0.851723\tvalid_0's multi_error: 0.249609\n",
      "[616]\tvalid_0's multi_logloss: 0.851692\tvalid_0's multi_error: 0.249413\n",
      "[617]\tvalid_0's multi_logloss: 0.851605\tvalid_0's multi_error: 0.249413\n",
      "[618]\tvalid_0's multi_logloss: 0.851594\tvalid_0's multi_error: 0.249218\n",
      "[619]\tvalid_0's multi_logloss: 0.851531\tvalid_0's multi_error: 0.248925\n",
      "[620]\tvalid_0's multi_logloss: 0.851494\tvalid_0's multi_error: 0.249511\n",
      "[621]\tvalid_0's multi_logloss: 0.851423\tvalid_0's multi_error: 0.249413\n",
      "[622]\tvalid_0's multi_logloss: 0.851379\tvalid_0's multi_error: 0.24912\n",
      "[623]\tvalid_0's multi_logloss: 0.851383\tvalid_0's multi_error: 0.249511\n",
      "[624]\tvalid_0's multi_logloss: 0.85133\tvalid_0's multi_error: 0.24912\n",
      "[625]\tvalid_0's multi_logloss: 0.851314\tvalid_0's multi_error: 0.24912\n",
      "[626]\tvalid_0's multi_logloss: 0.851291\tvalid_0's multi_error: 0.249022\n",
      "[627]\tvalid_0's multi_logloss: 0.851274\tvalid_0's multi_error: 0.249413\n",
      "[628]\tvalid_0's multi_logloss: 0.851247\tvalid_0's multi_error: 0.249218\n",
      "[629]\tvalid_0's multi_logloss: 0.851232\tvalid_0's multi_error: 0.248925\n",
      "[630]\tvalid_0's multi_logloss: 0.851222\tvalid_0's multi_error: 0.249218\n",
      "[631]\tvalid_0's multi_logloss: 0.851149\tvalid_0's multi_error: 0.248925\n",
      "[632]\tvalid_0's multi_logloss: 0.851128\tvalid_0's multi_error: 0.248925\n",
      "[633]\tvalid_0's multi_logloss: 0.851122\tvalid_0's multi_error: 0.249022\n",
      "[634]\tvalid_0's multi_logloss: 0.851121\tvalid_0's multi_error: 0.249218\n",
      "[635]\tvalid_0's multi_logloss: 0.851061\tvalid_0's multi_error: 0.249022\n",
      "[636]\tvalid_0's multi_logloss: 0.851022\tvalid_0's multi_error: 0.24912\n",
      "[637]\tvalid_0's multi_logloss: 0.851026\tvalid_0's multi_error: 0.24912\n",
      "[638]\tvalid_0's multi_logloss: 0.850937\tvalid_0's multi_error: 0.24912\n",
      "[639]\tvalid_0's multi_logloss: 0.85089\tvalid_0's multi_error: 0.24912\n",
      "[640]\tvalid_0's multi_logloss: 0.850843\tvalid_0's multi_error: 0.249022\n",
      "[641]\tvalid_0's multi_logloss: 0.850764\tvalid_0's multi_error: 0.248827\n",
      "[642]\tvalid_0's multi_logloss: 0.850776\tvalid_0's multi_error: 0.248925\n",
      "[643]\tvalid_0's multi_logloss: 0.850746\tvalid_0's multi_error: 0.248631\n",
      "[644]\tvalid_0's multi_logloss: 0.850777\tvalid_0's multi_error: 0.248925\n",
      "[645]\tvalid_0's multi_logloss: 0.850715\tvalid_0's multi_error: 0.248729\n",
      "[646]\tvalid_0's multi_logloss: 0.850678\tvalid_0's multi_error: 0.248827\n",
      "[647]\tvalid_0's multi_logloss: 0.850675\tvalid_0's multi_error: 0.24824\n",
      "[648]\tvalid_0's multi_logloss: 0.85066\tvalid_0's multi_error: 0.24824\n",
      "[649]\tvalid_0's multi_logloss: 0.850638\tvalid_0's multi_error: 0.248338\n",
      "[650]\tvalid_0's multi_logloss: 0.850622\tvalid_0's multi_error: 0.248338\n",
      "[651]\tvalid_0's multi_logloss: 0.850573\tvalid_0's multi_error: 0.24824\n",
      "[652]\tvalid_0's multi_logloss: 0.850545\tvalid_0's multi_error: 0.248338\n",
      "[653]\tvalid_0's multi_logloss: 0.850504\tvalid_0's multi_error: 0.248142\n",
      "[654]\tvalid_0's multi_logloss: 0.850438\tvalid_0's multi_error: 0.248338\n",
      "[655]\tvalid_0's multi_logloss: 0.850429\tvalid_0's multi_error: 0.24824\n",
      "[656]\tvalid_0's multi_logloss: 0.850445\tvalid_0's multi_error: 0.248631\n",
      "[657]\tvalid_0's multi_logloss: 0.85038\tvalid_0's multi_error: 0.248533\n",
      "[658]\tvalid_0's multi_logloss: 0.850366\tvalid_0's multi_error: 0.248729\n",
      "[659]\tvalid_0's multi_logloss: 0.850334\tvalid_0's multi_error: 0.248631\n",
      "[660]\tvalid_0's multi_logloss: 0.850283\tvalid_0's multi_error: 0.248729\n",
      "[661]\tvalid_0's multi_logloss: 0.850259\tvalid_0's multi_error: 0.248631\n",
      "[662]\tvalid_0's multi_logloss: 0.850226\tvalid_0's multi_error: 0.248631\n",
      "[663]\tvalid_0's multi_logloss: 0.850211\tvalid_0's multi_error: 0.248631\n",
      "[664]\tvalid_0's multi_logloss: 0.850197\tvalid_0's multi_error: 0.248436\n",
      "[665]\tvalid_0's multi_logloss: 0.850189\tvalid_0's multi_error: 0.248142\n",
      "[666]\tvalid_0's multi_logloss: 0.850161\tvalid_0's multi_error: 0.248045\n",
      "[667]\tvalid_0's multi_logloss: 0.85017\tvalid_0's multi_error: 0.24824\n",
      "[668]\tvalid_0's multi_logloss: 0.850117\tvalid_0's multi_error: 0.24824\n",
      "[669]\tvalid_0's multi_logloss: 0.850086\tvalid_0's multi_error: 0.24824\n",
      "[670]\tvalid_0's multi_logloss: 0.850123\tvalid_0's multi_error: 0.248045\n",
      "[671]\tvalid_0's multi_logloss: 0.850089\tvalid_0's multi_error: 0.248142\n",
      "[672]\tvalid_0's multi_logloss: 0.850089\tvalid_0's multi_error: 0.248045\n",
      "[673]\tvalid_0's multi_logloss: 0.850062\tvalid_0's multi_error: 0.248142\n",
      "[674]\tvalid_0's multi_logloss: 0.850038\tvalid_0's multi_error: 0.24824\n",
      "[675]\tvalid_0's multi_logloss: 0.850035\tvalid_0's multi_error: 0.248142\n",
      "[676]\tvalid_0's multi_logloss: 0.850053\tvalid_0's multi_error: 0.247849\n",
      "[677]\tvalid_0's multi_logloss: 0.850063\tvalid_0's multi_error: 0.247849\n",
      "[678]\tvalid_0's multi_logloss: 0.850079\tvalid_0's multi_error: 0.247947\n",
      "[679]\tvalid_0's multi_logloss: 0.850101\tvalid_0's multi_error: 0.248045\n",
      "[680]\tvalid_0's multi_logloss: 0.850103\tvalid_0's multi_error: 0.24824\n",
      "[681]\tvalid_0's multi_logloss: 0.850028\tvalid_0's multi_error: 0.248045\n",
      "[682]\tvalid_0's multi_logloss: 0.850045\tvalid_0's multi_error: 0.247849\n",
      "[683]\tvalid_0's multi_logloss: 0.850006\tvalid_0's multi_error: 0.247849\n",
      "[684]\tvalid_0's multi_logloss: 0.849962\tvalid_0's multi_error: 0.247849\n",
      "[685]\tvalid_0's multi_logloss: 0.849977\tvalid_0's multi_error: 0.247654\n",
      "[686]\tvalid_0's multi_logloss: 0.849965\tvalid_0's multi_error: 0.247947\n",
      "[687]\tvalid_0's multi_logloss: 0.849947\tvalid_0's multi_error: 0.247849\n",
      "[688]\tvalid_0's multi_logloss: 0.849977\tvalid_0's multi_error: 0.247849\n",
      "[689]\tvalid_0's multi_logloss: 0.849933\tvalid_0's multi_error: 0.247751\n",
      "[690]\tvalid_0's multi_logloss: 0.849913\tvalid_0's multi_error: 0.247556\n",
      "[691]\tvalid_0's multi_logloss: 0.849915\tvalid_0's multi_error: 0.247751\n",
      "[692]\tvalid_0's multi_logloss: 0.849897\tvalid_0's multi_error: 0.247849\n",
      "[693]\tvalid_0's multi_logloss: 0.849862\tvalid_0's multi_error: 0.247751\n"
     ]
    },
    {
     "name": "stdout",
     "output_type": "stream",
     "text": [
      "[694]\tvalid_0's multi_logloss: 0.849872\tvalid_0's multi_error: 0.247849\n",
      "[695]\tvalid_0's multi_logloss: 0.849865\tvalid_0's multi_error: 0.24824\n",
      "[696]\tvalid_0's multi_logloss: 0.849866\tvalid_0's multi_error: 0.248045\n",
      "[697]\tvalid_0's multi_logloss: 0.84988\tvalid_0's multi_error: 0.247849\n",
      "[698]\tvalid_0's multi_logloss: 0.849879\tvalid_0's multi_error: 0.247751\n",
      "[699]\tvalid_0's multi_logloss: 0.849839\tvalid_0's multi_error: 0.247947\n",
      "[700]\tvalid_0's multi_logloss: 0.849802\tvalid_0's multi_error: 0.247654\n",
      "[701]\tvalid_0's multi_logloss: 0.849833\tvalid_0's multi_error: 0.247751\n",
      "[702]\tvalid_0's multi_logloss: 0.849848\tvalid_0's multi_error: 0.247751\n",
      "[703]\tvalid_0's multi_logloss: 0.849901\tvalid_0's multi_error: 0.247849\n",
      "[704]\tvalid_0's multi_logloss: 0.849866\tvalid_0's multi_error: 0.247849\n",
      "[705]\tvalid_0's multi_logloss: 0.849877\tvalid_0's multi_error: 0.247654\n",
      "[706]\tvalid_0's multi_logloss: 0.849894\tvalid_0's multi_error: 0.247654\n",
      "[707]\tvalid_0's multi_logloss: 0.849943\tvalid_0's multi_error: 0.248045\n",
      "[708]\tvalid_0's multi_logloss: 0.849913\tvalid_0's multi_error: 0.247654\n",
      "[709]\tvalid_0's multi_logloss: 0.849926\tvalid_0's multi_error: 0.247458\n",
      "[710]\tvalid_0's multi_logloss: 0.849886\tvalid_0's multi_error: 0.247262\n",
      "[711]\tvalid_0's multi_logloss: 0.84992\tvalid_0's multi_error: 0.247262\n",
      "[712]\tvalid_0's multi_logloss: 0.849954\tvalid_0's multi_error: 0.247262\n",
      "[713]\tvalid_0's multi_logloss: 0.84998\tvalid_0's multi_error: 0.24736\n",
      "[714]\tvalid_0's multi_logloss: 0.849989\tvalid_0's multi_error: 0.247458\n",
      "[715]\tvalid_0's multi_logloss: 0.850059\tvalid_0's multi_error: 0.247262\n",
      "[716]\tvalid_0's multi_logloss: 0.850052\tvalid_0's multi_error: 0.247458\n",
      "[717]\tvalid_0's multi_logloss: 0.85007\tvalid_0's multi_error: 0.247556\n",
      "[718]\tvalid_0's multi_logloss: 0.850067\tvalid_0's multi_error: 0.247458\n",
      "[719]\tvalid_0's multi_logloss: 0.850055\tvalid_0's multi_error: 0.24736\n",
      "[720]\tvalid_0's multi_logloss: 0.850044\tvalid_0's multi_error: 0.24736\n",
      "[721]\tvalid_0's multi_logloss: 0.850022\tvalid_0's multi_error: 0.247556\n",
      "[722]\tvalid_0's multi_logloss: 0.850043\tvalid_0's multi_error: 0.247458\n",
      "[723]\tvalid_0's multi_logloss: 0.850048\tvalid_0's multi_error: 0.247262\n",
      "[724]\tvalid_0's multi_logloss: 0.850023\tvalid_0's multi_error: 0.247458\n",
      "[725]\tvalid_0's multi_logloss: 0.850062\tvalid_0's multi_error: 0.247751\n",
      "[726]\tvalid_0's multi_logloss: 0.850099\tvalid_0's multi_error: 0.247654\n",
      "[727]\tvalid_0's multi_logloss: 0.850111\tvalid_0's multi_error: 0.247654\n",
      "[728]\tvalid_0's multi_logloss: 0.85013\tvalid_0's multi_error: 0.247556\n",
      "[729]\tvalid_0's multi_logloss: 0.850107\tvalid_0's multi_error: 0.247458\n",
      "[730]\tvalid_0's multi_logloss: 0.850135\tvalid_0's multi_error: 0.247458\n",
      "[731]\tvalid_0's multi_logloss: 0.850146\tvalid_0's multi_error: 0.247556\n",
      "[732]\tvalid_0's multi_logloss: 0.850166\tvalid_0's multi_error: 0.247654\n",
      "[733]\tvalid_0's multi_logloss: 0.850204\tvalid_0's multi_error: 0.247262\n",
      "[734]\tvalid_0's multi_logloss: 0.850256\tvalid_0's multi_error: 0.24736\n",
      "[735]\tvalid_0's multi_logloss: 0.850253\tvalid_0's multi_error: 0.247262\n",
      "[736]\tvalid_0's multi_logloss: 0.850281\tvalid_0's multi_error: 0.247165\n",
      "[737]\tvalid_0's multi_logloss: 0.850322\tvalid_0's multi_error: 0.247458\n",
      "[738]\tvalid_0's multi_logloss: 0.850366\tvalid_0's multi_error: 0.247458\n",
      "[739]\tvalid_0's multi_logloss: 0.850408\tvalid_0's multi_error: 0.24736\n",
      "[740]\tvalid_0's multi_logloss: 0.850419\tvalid_0's multi_error: 0.247458\n",
      "[741]\tvalid_0's multi_logloss: 0.850453\tvalid_0's multi_error: 0.247556\n",
      "[742]\tvalid_0's multi_logloss: 0.850485\tvalid_0's multi_error: 0.24736\n",
      "[743]\tvalid_0's multi_logloss: 0.850498\tvalid_0's multi_error: 0.247262\n",
      "[744]\tvalid_0's multi_logloss: 0.850462\tvalid_0's multi_error: 0.247262\n",
      "[745]\tvalid_0's multi_logloss: 0.850495\tvalid_0's multi_error: 0.247067\n",
      "[746]\tvalid_0's multi_logloss: 0.850509\tvalid_0's multi_error: 0.247262\n",
      "[747]\tvalid_0's multi_logloss: 0.850527\tvalid_0's multi_error: 0.247165\n",
      "[748]\tvalid_0's multi_logloss: 0.850588\tvalid_0's multi_error: 0.246969\n",
      "[749]\tvalid_0's multi_logloss: 0.85058\tvalid_0's multi_error: 0.246871\n",
      "[750]\tvalid_0's multi_logloss: 0.850637\tvalid_0's multi_error: 0.246969\n",
      "Early stopping, best iteration is:\n",
      "[700]\tvalid_0's multi_logloss: 0.849802\tvalid_0's multi_error: 0.247654\n"
     ]
    }
   ],
   "source": [
    "X_train, X_val, y_train, y_val = train_test_split(trainX,label,\\\n",
    "                                    test_size=0.10, random_state=24)\n",
    "\n",
    "params = {\n",
    "        'task': 'train','boosting_type': 'gbdt','objective': 'multiclass','num_class':19,\n",
    "        'metric': {'multi_logloss','multi_error'},'max_depth':-1,'num_leaves':131,\n",
    "        'min_data_in_leaf':50,'learning_rate': 0.02,'lambda_l2':0.1,\n",
    "        'feature_fraction': 0.7,'bagging_fraction': 0.7,'bagging_freq': 0,\n",
    "        'verbosity': 20}\n",
    "\n",
    "lgb_train = lgb.Dataset(X_train,label=y_train,feature_name='auto')\n",
    "lgb_eval = lgb.Dataset(X_val,label=y_val,feature_name='auto', reference=lgb_train)\n",
    "clf = lgb.train(params,lgb_train,num_boost_round=12000,valid_sets=lgb_eval,early_stopping_rounds=50)\n",
    "\n",
    "pred = clf.predict(testX,num_iteration=clf.best_iteration)"
   ]
  },
  {
   "cell_type": "code",
   "execution_count": null,
   "metadata": {
    "collapsed": true
   },
   "outputs": [],
   "source": []
  }
 ],
 "metadata": {
  "kernelspec": {
   "display_name": "Python 3",
   "language": "python",
   "name": "python3"
  },
  "language_info": {
   "codemirror_mode": {
    "name": "ipython",
    "version": 3
   },
   "file_extension": ".py",
   "mimetype": "text/x-python",
   "name": "python",
   "nbconvert_exporter": "python",
   "pygments_lexer": "ipython3",
   "version": "3.6.2"
  }
 },
 "nbformat": 4,
 "nbformat_minor": 2
}
